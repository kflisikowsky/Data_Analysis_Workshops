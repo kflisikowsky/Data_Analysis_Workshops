{
 "cells": [
  {
   "cell_type": "markdown",
   "id": "bb84f4d3",
   "metadata": {},
   "source": [
    "---\n",
    "title: Descriptive Statistics\n",
    "subtitle: Foundations of Statistical Analysis in Python\n",
    "abstract: This notebook introduces the foundations of descriptive statistics in Python. It covers measures of central tendency (mean, median, mode), variability (range, interquartile range, standard deviation), and techniques for detecting outliers using z-scores. Additionally, it explores bivariate relationships through linear correlations, highlighting their strengths and limitations. Practical examples and visualizations are provided to help users understand and apply these statistical concepts effectively.\n",
    "author:\n",
    "  - name: Karol Flisikowski\n",
    "    affiliations: \n",
    "      - Gdansk University of Technology\n",
    "      - Chongqing Technology and Business University\n",
    "    orcid: 0000-0002-4160-1297\n",
    "    email: karol@ctbu.edu.cn\n",
    "date: 2025-05-03\n",
    "---"
   ]
  },
  {
   "cell_type": "markdown",
   "id": "11847bd1",
   "metadata": {
    "slideshow": {
     "slide_type": "slide"
    }
   },
   "source": [
    "## Looking back: Exploratory Data Analysis\n",
    "\n",
    "- First, we dove deep into **data visualization**.  \n",
    "- Then, we've learned how to **wrangle** and **clean** our data.\n",
    "\n",
    "Now we'll turn to **describing** our data - as well as the **foundations of statistics**."
   ]
  },
  {
   "cell_type": "markdown",
   "id": "118f7491",
   "metadata": {
    "slideshow": {
     "slide_type": "slide"
    }
   },
   "source": [
    "## Goals of this lecture\n",
    "\n",
    "There are many ways to *describe* a distribution. \n",
    "\n",
    "Here we will discuss:\n",
    "- Measures of **central tendency**: what is the typical value in this distribution?\n",
    "- Measures of **variability**: how much do the values differ from each other?  \n",
    "- Measures of **skewness**: how strong is the asymmetry of the distribution?\n",
    "- Measures of **curvature**: what is the intensity of extreme values?\n",
    "- Measurement of the relationship between distributions using **linear, rank correlations**.\n",
    "- Measurement of the relationship between qualitative variables using **contingency**."
   ]
  },
  {
   "cell_type": "markdown",
   "id": "77b36ad1",
   "metadata": {
    "slideshow": {
     "slide_type": "slide"
    }
   },
   "source": [
    "## Importing relevant libraries"
   ]
  },
  {
   "cell_type": "code",
   "execution_count": 2,
   "id": "62f5c475",
   "metadata": {
    "slideshow": {
     "slide_type": "-"
    }
   },
   "outputs": [],
   "source": [
    "import numpy as np\n",
    "import matplotlib.pyplot as plt\n",
    "import seaborn as sns ### importing seaborn\n",
    "import pandas as pd\n",
    "import scipy.stats as ss"
   ]
  },
  {
   "cell_type": "code",
   "execution_count": 9,
   "id": "4284a34d",
   "metadata": {
    "slideshow": {
     "slide_type": "-"
    }
   },
   "outputs": [],
   "source": [
    "%matplotlib inline \n",
    "%config InlineBackend.figure_format = 'retina'"
   ]
  },
  {
   "cell_type": "markdown",
   "id": "f4cac41f",
   "metadata": {},
   "source": [
    "# Measurement scales in statistics\n",
    "\n",
    "Measurement scales determine what mathematical and statistical operations can be performed on data. There are four basic types of scales:\n",
    "\n",
    "1. **Nominal** scale\n",
    "- Data is used only for naming or categorizing.\n",
    "- The order between values cannot be determined.\n",
    "- Possible operations: count, mode, frequency analysis.\n",
    "\n",
    "Examples:\n",
    "- Pokémon type (type_1): “fire”, ‘water’, “grass”, etc.\n",
    "- Species, gender, colors."
   ]
  },
  {
   "cell_type": "code",
   "execution_count": 3,
   "id": "0d90dbc4",
   "metadata": {},
   "outputs": [
    {
     "data": {
      "text/plain": [
       "Type 1\n",
       "Water       112\n",
       "Normal       98\n",
       "Grass        70\n",
       "Bug          69\n",
       "Psychic      57\n",
       "Fire         52\n",
       "Electric     44\n",
       "Rock         44\n",
       "Dragon       32\n",
       "Ground       32\n",
       "Ghost        32\n",
       "Dark         31\n",
       "Poison       28\n",
       "Steel        27\n",
       "Fighting     27\n",
       "Ice          24\n",
       "Fairy        17\n",
       "Flying        4\n",
       "Name: count, dtype: int64"
      ]
     },
     "execution_count": 3,
     "metadata": {},
     "output_type": "execute_result"
    }
   ],
   "source": [
    "import pandas as pd\n",
    "df_pokemon = pd.read_csv(\"data/pokemon.csv\")\n",
    "df_pokemon[\"Type 1\"].value_counts()"
   ]
  },
  {
   "cell_type": "markdown",
   "id": "33a18ed3",
   "metadata": {},
   "source": [
    "1. **Ordinal** scale\n",
    "- Data can be ordered, but the distances between them are not known.\n",
    "- Possible operations: median, quantiles, rank tests (e.g. Spearman)."
   ]
  },
  {
   "cell_type": "markdown",
   "id": "a5c13397",
   "metadata": {},
   "source": [
    "Examples:\n",
    "- Strength level: \"low,\" \"medium,\" \"high.\"\n",
    "- Quality ratings: \"weak,\" \"good,\" \"very good.\""
   ]
  },
  {
   "cell_type": "code",
   "execution_count": 2,
   "id": "296f012d",
   "metadata": {},
   "outputs": [
    {
     "name": "stdout",
     "output_type": "stream",
     "text": [
      "['Third', 'First', 'Second']\n",
      "Categories (3, object): ['First', 'Second', 'Third']\n"
     ]
    }
   ],
   "source": [
    "import seaborn as sns\n",
    "\n",
    "titanic = sns.load_dataset(\"titanic\")\n",
    "\n",
    "print(titanic[\"class\"].unique())"
   ]
  },
  {
   "cell_type": "markdown",
   "id": "a69f4a6f",
   "metadata": {},
   "source": [
    "3. **Interval** scale\n",
    "- Data are numerical, with equal intervals, but no absolute zero.\n",
    "- Differences, mean, standard deviation can be calculated.\n",
    "- No sense for quotients (e.g., “twice as much”).\n",
    "\n",
    "Examples:\n",
    "- *Temperature in °C* (but not in Kelvin!). Why? No absolute zero - zero does not mean the absence of a characteristic, it is just a conventional reference point. 0°C does not mean no temperature; 20°C is not 2 x 10°C. \n",
    "- *Year in the calendar* (e.g., 1990). Why. Year 0 does not mean the beginning of time; 2000 is not 2 x 1000.\n",
    "- *Time in the hour system* (e.g., 1 p.m.). Why. 0:00 is not the absence of time, but a fixed reference point.\n",
    "\n",
    "4. **Ratio** scale\n",
    "- Numerical data, have absolute zero.\n",
    "- All mathematical operations can be performed, including division.\n",
    "\n",
    "> **Not all numerical (numerical) data are on the quotient scale!** Example: temperature in degrees Celsius is not on the quotient scale, because 0°C does not mean no temperature. In contrast, temperature in Kelvin (K) already does, because 0 K is the absolute absence of heat energy.\n",
    "\n",
    "Examples:\n",
    "- Height, weight, number of Pokémon's attack points (attack), HP, speed."
   ]
  },
  {
   "cell_type": "code",
   "execution_count": 3,
   "id": "6fc544a7",
   "metadata": {},
   "outputs": [
    {
     "data": {
      "application/vnd.microsoft.datawrangler.viewer.v0+json": {
       "columns": [
        {
         "name": "index",
         "rawType": "object",
         "type": "string"
        },
        {
         "name": "HP",
         "rawType": "float64",
         "type": "float"
        },
        {
         "name": "Attack",
         "rawType": "float64",
         "type": "float"
        },
        {
         "name": "Speed",
         "rawType": "float64",
         "type": "float"
        }
       ],
       "conversionMethod": "pd.DataFrame",
       "ref": "b17fb46d-5e5c-462b-88ce-66b4032689fc",
       "rows": [
        [
         "count",
         "800.0",
         "800.0",
         "800.0"
        ],
        [
         "mean",
         "69.25875",
         "79.00125",
         "68.2775"
        ],
        [
         "std",
         "25.53466903233207",
         "32.45736586949845",
         "29.060473717161464"
        ],
        [
         "min",
         "1.0",
         "5.0",
         "5.0"
        ],
        [
         "25%",
         "50.0",
         "55.0",
         "45.0"
        ],
        [
         "50%",
         "65.0",
         "75.0",
         "65.0"
        ],
        [
         "75%",
         "80.0",
         "100.0",
         "90.0"
        ],
        [
         "max",
         "255.0",
         "190.0",
         "180.0"
        ]
       ],
       "shape": {
        "columns": 3,
        "rows": 8
       }
      },
      "text/html": [
       "<div>\n",
       "<style scoped>\n",
       "    .dataframe tbody tr th:only-of-type {\n",
       "        vertical-align: middle;\n",
       "    }\n",
       "\n",
       "    .dataframe tbody tr th {\n",
       "        vertical-align: top;\n",
       "    }\n",
       "\n",
       "    .dataframe thead th {\n",
       "        text-align: right;\n",
       "    }\n",
       "</style>\n",
       "<table border=\"1\" class=\"dataframe\">\n",
       "  <thead>\n",
       "    <tr style=\"text-align: right;\">\n",
       "      <th></th>\n",
       "      <th>HP</th>\n",
       "      <th>Attack</th>\n",
       "      <th>Speed</th>\n",
       "    </tr>\n",
       "  </thead>\n",
       "  <tbody>\n",
       "    <tr>\n",
       "      <th>count</th>\n",
       "      <td>800.000000</td>\n",
       "      <td>800.000000</td>\n",
       "      <td>800.000000</td>\n",
       "    </tr>\n",
       "    <tr>\n",
       "      <th>mean</th>\n",
       "      <td>69.258750</td>\n",
       "      <td>79.001250</td>\n",
       "      <td>68.277500</td>\n",
       "    </tr>\n",
       "    <tr>\n",
       "      <th>std</th>\n",
       "      <td>25.534669</td>\n",
       "      <td>32.457366</td>\n",
       "      <td>29.060474</td>\n",
       "    </tr>\n",
       "    <tr>\n",
       "      <th>min</th>\n",
       "      <td>1.000000</td>\n",
       "      <td>5.000000</td>\n",
       "      <td>5.000000</td>\n",
       "    </tr>\n",
       "    <tr>\n",
       "      <th>25%</th>\n",
       "      <td>50.000000</td>\n",
       "      <td>55.000000</td>\n",
       "      <td>45.000000</td>\n",
       "    </tr>\n",
       "    <tr>\n",
       "      <th>50%</th>\n",
       "      <td>65.000000</td>\n",
       "      <td>75.000000</td>\n",
       "      <td>65.000000</td>\n",
       "    </tr>\n",
       "    <tr>\n",
       "      <th>75%</th>\n",
       "      <td>80.000000</td>\n",
       "      <td>100.000000</td>\n",
       "      <td>90.000000</td>\n",
       "    </tr>\n",
       "    <tr>\n",
       "      <th>max</th>\n",
       "      <td>255.000000</td>\n",
       "      <td>190.000000</td>\n",
       "      <td>180.000000</td>\n",
       "    </tr>\n",
       "  </tbody>\n",
       "</table>\n",
       "</div>"
      ],
      "text/plain": [
       "               HP      Attack       Speed\n",
       "count  800.000000  800.000000  800.000000\n",
       "mean    69.258750   79.001250   68.277500\n",
       "std     25.534669   32.457366   29.060474\n",
       "min      1.000000    5.000000    5.000000\n",
       "25%     50.000000   55.000000   45.000000\n",
       "50%     65.000000   75.000000   65.000000\n",
       "75%     80.000000  100.000000   90.000000\n",
       "max    255.000000  190.000000  180.000000"
      ]
     },
     "execution_count": 3,
     "metadata": {},
     "output_type": "execute_result"
    }
   ],
   "source": [
    "df_pokemon[[\"HP\", \"Attack\", \"Speed\"]].describe()"
   ]
  },
  {
   "cell_type": "markdown",
   "id": "cf50f432",
   "metadata": {},
   "source": [
    "### Table: Measurement Scales in Statistics\n",
    "\n",
    "| Scale          | Example                           | Can it be ordered? | Equal intervals? | Absolute zero? | Example of statistical operations        |\n",
    "|----------------|-----------------------------------|---------------------|------------------|----------------|------------------------------------------|\n",
    "| **Nominal**    | Type of Pokémon (`fire`, `water`, etc.) | ❌                  | ❌               | ❌             | Mode, counts, frequency analysis         |\n",
    "| **Ordinal**    | Ticket class (`First`, `Second`, `Third`) | ✅                  | ❌               | ❌             | Median, quantiles, rank tests            |\n",
    "| **Interval**   | Temperature in °C                | ✅                  | ✅               | ❌             | Mean, standard deviation                 |\n",
    "| **Ratio**      | HP, attack, growth               | ✅                  | ✅               | ✅             | All mathematical operations/statistics   |"
   ]
  },
  {
   "cell_type": "markdown",
   "id": "c6e40221",
   "metadata": {},
   "source": [
    "**Conclusion**: The type of scale affects the choice of statistical methods - for example, the Pearson correlation test requires quotient or interval data, while the Chi² test requires nominal data."
   ]
  },
  {
   "cell_type": "markdown",
   "id": "d6fd8830",
   "metadata": {},
   "source": [
    "![title](img/scales.jpg)"
   ]
  },
  {
   "cell_type": "markdown",
   "id": "bd7f172b",
   "metadata": {
    "slideshow": {
     "slide_type": "slide"
    }
   },
   "source": [
    "## Central Tendency\n",
    "\n",
    "> **Central Tendency** refers to the \"typical value\" in a distribution.\n",
    "\n",
    "Many ways to *measure* what's \"typical\".\n",
    "\n",
    "- The `mean`. \n",
    "- The `median`.  \n",
    "- The `mode`. "
   ]
  },
  {
   "cell_type": "markdown",
   "id": "38ebfe72",
   "metadata": {
    "slideshow": {
     "slide_type": "slide"
    }
   },
   "source": [
    "### Why is this useful?\n",
    "\n",
    "- A dataset can contain *lots* of observations.  \n",
    "   - E.g., $N = 5000$ survey responses about `height`.  \n",
    "- One way to \"describe\" this distribution is to **visualize** it.  \n",
    "- But it's also helpful to reduce that distribution to a *single number*.\n",
    "\n",
    "This is necessarily a **simplification** of our dataset!"
   ]
  },
  {
   "cell_type": "markdown",
   "id": "51fb4bc4",
   "metadata": {
    "slideshow": {
     "slide_type": "slide"
    }
   },
   "source": [
    "### The *mean*\n",
    "\n",
    "> The **arithmetic mean** is defined as the `sum` of all values in a distribution, divided by the number of observations in that distribution."
   ]
  },
  {
   "cell_type": "code",
   "execution_count": 3,
   "id": "8af89a86",
   "metadata": {
    "slideshow": {
     "slide_type": "-"
    }
   },
   "outputs": [
    {
     "data": {
      "text/plain": [
       "2.5"
      ]
     },
     "execution_count": 3,
     "metadata": {},
     "output_type": "execute_result"
    }
   ],
   "source": [
    "numbers = [1, 2, 3, 4]\n",
    "### Calculating the mean by hand\n",
    "sum(numbers)/len(numbers)"
   ]
  },
  {
   "cell_type": "markdown",
   "id": "4cf883d3",
   "metadata": {
    "slideshow": {
     "slide_type": "slide"
    }
   },
   "source": [
    "#### `numpy.mean`\n",
    "\n",
    "The `numpy` package has a function to calculate the `mean` on a `list` or `numpy.ndarray`."
   ]
  },
  {
   "cell_type": "code",
   "execution_count": 4,
   "id": "9d5aa3bd",
   "metadata": {
    "slideshow": {
     "slide_type": "-"
    }
   },
   "outputs": [
    {
     "data": {
      "text/plain": [
       "2.5"
      ]
     },
     "execution_count": 4,
     "metadata": {},
     "output_type": "execute_result"
    }
   ],
   "source": [
    "np.mean(numbers)"
   ]
  },
  {
   "cell_type": "markdown",
   "id": "3aa7d518",
   "metadata": {
    "slideshow": {
     "slide_type": "slide"
    }
   },
   "source": [
    "#### Calculating the `mean` of a `pandas` column\n",
    "\n",
    "If we're working with a `DataFrame`, we can calculate the `mean` of specific columns."
   ]
  },
  {
   "cell_type": "code",
   "execution_count": 5,
   "id": "125f290b",
   "metadata": {
    "slideshow": {
     "slide_type": "-"
    }
   },
   "outputs": [
    {
     "data": {
      "text/html": [
       "<div>\n",
       "<style scoped>\n",
       "    .dataframe tbody tr th:only-of-type {\n",
       "        vertical-align: middle;\n",
       "    }\n",
       "\n",
       "    .dataframe tbody tr th {\n",
       "        vertical-align: top;\n",
       "    }\n",
       "\n",
       "    .dataframe thead th {\n",
       "        text-align: right;\n",
       "    }\n",
       "</style>\n",
       "<table border=\"1\" class=\"dataframe\">\n",
       "  <thead>\n",
       "    <tr style=\"text-align: right;\">\n",
       "      <th></th>\n",
       "      <th>country</th>\n",
       "      <th>year</th>\n",
       "      <th>population</th>\n",
       "      <th>continent</th>\n",
       "      <th>life_exp</th>\n",
       "      <th>gdp_cap</th>\n",
       "    </tr>\n",
       "  </thead>\n",
       "  <tbody>\n",
       "    <tr>\n",
       "      <th>0</th>\n",
       "      <td>Afghanistan</td>\n",
       "      <td>1952</td>\n",
       "      <td>8425333</td>\n",
       "      <td>Asia</td>\n",
       "      <td>28.801</td>\n",
       "      <td>779.445314</td>\n",
       "    </tr>\n",
       "    <tr>\n",
       "      <th>1</th>\n",
       "      <td>Afghanistan</td>\n",
       "      <td>1957</td>\n",
       "      <td>9240934</td>\n",
       "      <td>Asia</td>\n",
       "      <td>30.332</td>\n",
       "      <td>820.853030</td>\n",
       "    </tr>\n",
       "  </tbody>\n",
       "</table>\n",
       "</div>"
      ],
      "text/plain": [
       "       country  year  population continent  life_exp     gdp_cap\n",
       "0  Afghanistan  1952     8425333      Asia    28.801  779.445314\n",
       "1  Afghanistan  1957     9240934      Asia    30.332  820.853030"
      ]
     },
     "execution_count": 5,
     "metadata": {},
     "output_type": "execute_result"
    }
   ],
   "source": [
    "df_gapminder = pd.read_csv(\"data/viz/gapminder_full.csv\")\n",
    "df_gapminder.head(2)"
   ]
  },
  {
   "cell_type": "code",
   "execution_count": 6,
   "id": "1c3a00f3",
   "metadata": {
    "slideshow": {
     "slide_type": "-"
    }
   },
   "outputs": [
    {
     "data": {
      "text/plain": [
       "59.47443936619714"
      ]
     },
     "execution_count": 6,
     "metadata": {},
     "output_type": "execute_result"
    }
   ],
   "source": [
    "df_gapminder['life_exp'].mean()"
   ]
  },
  {
   "cell_type": "markdown",
   "id": "78e65bc5",
   "metadata": {
    "slideshow": {
     "slide_type": "slide"
    }
   },
   "source": [
    "#### Check-in\n",
    "\n",
    "How would you calculate the `mean` of the `gdp_cap` column?"
   ]
  },
  {
   "cell_type": "code",
   "execution_count": 7,
   "id": "ca1f2568",
   "metadata": {
    "slideshow": {
     "slide_type": "-"
    }
   },
   "outputs": [],
   "source": [
    "### Your code here"
   ]
  },
  {
   "cell_type": "markdown",
   "id": "ca97b7a0",
   "metadata": {
    "slideshow": {
     "slide_type": "slide"
    }
   },
   "source": [
    "#### Solution\n",
    "\n",
    "This tells us the *average* `gdp_cap` of countries in this dataset across all years measured."
   ]
  },
  {
   "cell_type": "code",
   "execution_count": 8,
   "id": "446daf35",
   "metadata": {
    "slideshow": {
     "slide_type": "-"
    }
   },
   "outputs": [
    {
     "data": {
      "text/plain": [
       "7215.327081212142"
      ]
     },
     "execution_count": 8,
     "metadata": {},
     "output_type": "execute_result"
    }
   ],
   "source": [
    "df_gapminder['gdp_cap'].mean()"
   ]
  },
  {
   "cell_type": "markdown",
   "id": "d81618ca",
   "metadata": {
    "slideshow": {
     "slide_type": "slide"
    }
   },
   "source": [
    "#### The *mean* and skew\n",
    "\n",
    "> **Skew** means there are values *elongating* one of the \"tails\" of a distribution.\n",
    "\n",
    "Of the measures of **central tendency**, the `mean` is most affected by the direction of skew.\n",
    "\n",
    "- How would you describe the **skew** below?  \n",
    "- Do you think the `mean` would be higher or lower than the `median`?"
   ]
  },
  {
   "cell_type": "code",
   "execution_count": 9,
   "id": "daceceaa",
   "metadata": {
    "slideshow": {
     "slide_type": "-"
    }
   },
   "outputs": [
    {
     "data": {
      "text/plain": [
       "<matplotlib.lines.Line2D at 0x7f8c693c98b0>"
      ]
     },
     "execution_count": 9,
     "metadata": {},
     "output_type": "execute_result"
    },
    {
     "data": {
      "image/png": "[encoded data removed]",
      "text/plain": [
       "<Figure size 432x288 with 1 Axes>"
      ]
     },
     "metadata": {
      "image/png": {
       "height": 262,
       "width": 388
      },
      "needs_background": "light"
     },
     "output_type": "display_data"
    }
   ],
   "source": [
    "sns.histplot(data = df_gapminder, x = \"gdp_cap\")\n",
    "plt.axvline(df_gapminder['gdp_cap'].mean(), linestyle = \"dotted\")"
   ]
  },
  {
   "cell_type": "markdown",
   "id": "08689326",
   "metadata": {
    "slideshow": {
     "slide_type": "slide"
    }
   },
   "source": [
    "#### Check-in\n",
    "\n",
    "Could you calculate the mean of the `continent` column? Why or why not?"
   ]
  },
  {
   "cell_type": "code",
   "execution_count": 10,
   "id": "2a93284e",
   "metadata": {
    "slideshow": {
     "slide_type": "-"
    }
   },
   "outputs": [],
   "source": [
    "### Your answer here"
   ]
  },
  {
   "cell_type": "markdown",
   "id": "9231dd34",
   "metadata": {
    "slideshow": {
     "slide_type": "slide"
    }
   },
   "source": [
    "#### Solution\n",
    "\n",
    "- You cannot calculate the mean of `continent`, which is a **categorical** variable.\n",
    "- The `mean` can only be calculated for **continuous** variables.\n"
   ]
  },
  {
   "cell_type": "markdown",
   "id": "51deaf6b",
   "metadata": {
    "slideshow": {
     "slide_type": "slide"
    }
   },
   "source": [
    "#### Check-in\n",
    "\n",
    "- Subtract each observation in `numbers` from the `mean` of this `list`.  \n",
    "- Then, calculate the **sum** of these deviations from the `mean`.\n",
    "\n",
    "What is their sum?"
   ]
  },
  {
   "cell_type": "code",
   "execution_count": 11,
   "id": "c64c81c8",
   "metadata": {
    "slideshow": {
     "slide_type": "-"
    }
   },
   "outputs": [],
   "source": [
    "numbers = np.array([1, 2, 3, 4])\n",
    "### Your code here"
   ]
  },
  {
   "cell_type": "markdown",
   "id": "62f55c65",
   "metadata": {
    "slideshow": {
     "slide_type": "slide"
    }
   },
   "source": [
    "#### Solution\n",
    "\n",
    "- The **sum of deviations** from the mean is equal to `0`.  \n",
    "- This will be relevant when we discuss **standard deviation**. "
   ]
  },
  {
   "cell_type": "code",
   "execution_count": 12,
   "id": "111e565a",
   "metadata": {
    "slideshow": {
     "slide_type": "-"
    }
   },
   "outputs": [
    {
     "data": {
      "text/plain": [
       "0.0"
      ]
     },
     "execution_count": 12,
     "metadata": {},
     "output_type": "execute_result"
    }
   ],
   "source": [
    "deviations = numbers - numbers.mean()\n",
    "sum(deviations)"
   ]
  },
  {
   "cell_type": "markdown",
   "id": "542bd4de",
   "metadata": {
    "slideshow": {
     "slide_type": "slide"
    }
   },
   "source": [
    "#### Interim summary\n",
    "\n",
    "- The `mean` is one of the most common measures of central tendency.  \n",
    "- It can only be used for **continuous** interval/ratio data.  \n",
    "- The **sum of deviations** from the mean is equal to `0`. \n",
    "- The `mean` is most affected by **skew** and **outliers**."
   ]
  },
  {
   "cell_type": "markdown",
   "id": "a4edf9e5",
   "metadata": {
    "slideshow": {
     "slide_type": "slide"
    }
   },
   "source": [
    "### The *median*\n",
    "\n",
    "> The **median** is calculated by sorting all values from least to greatest, then finding the value in the middle.\n",
    "\n",
    "If there is an *even* number of values, you take the `mean` of the middle two values."
   ]
  },
  {
   "cell_type": "code",
   "execution_count": 13,
   "id": "6f5ec350",
   "metadata": {
    "slideshow": {
     "slide_type": "-"
    }
   },
   "outputs": [
    {
     "data": {
      "text/plain": [
       "3531.8469885"
      ]
     },
     "execution_count": 13,
     "metadata": {},
     "output_type": "execute_result"
    }
   ],
   "source": [
    "df_gapminder['gdp_cap'].median()"
   ]
  },
  {
   "cell_type": "markdown",
   "id": "afe09cec",
   "metadata": {
    "slideshow": {
     "slide_type": "slide"
    }
   },
   "source": [
    "#### Comparing `median` and `mean`\n",
    "\n",
    "The `median` is less affected by the direction of skew."
   ]
  },
  {
   "cell_type": "code",
   "execution_count": 14,
   "id": "dd75b183",
   "metadata": {
    "slideshow": {
     "slide_type": "-"
    }
   },
   "outputs": [
    {
     "data": {
      "text/plain": [
       "<matplotlib.lines.Line2D at 0x7f8c8ad6a880>"
      ]
     },
     "execution_count": 14,
     "metadata": {},
     "output_type": "execute_result"
    },
    {
     "data": {
      "image/png": "[encoded data removed]",
      "text/plain": [
       "<Figure size 432x288 with 1 Axes>"
      ]
     },
     "metadata": {
      "image/png": {
       "height": 262,
       "width": 388
      },
      "needs_background": "light"
     },
     "output_type": "display_data"
    }
   ],
   "source": [
    "sns.histplot(data = df_gapminder, x = \"gdp_cap\")\n",
    "plt.axvline(df_gapminder['gdp_cap'].mean(), linestyle = \"dotted\", color = \"blue\")\n",
    "plt.axvline(df_gapminder['gdp_cap'].median(), linestyle = \"dashed\", color = \"red\")"
   ]
  },
  {
   "cell_type": "markdown",
   "id": "db7d9def",
   "metadata": {
    "slideshow": {
     "slide_type": "slide"
    }
   },
   "source": [
    "#### Check-in\n",
    "\n",
    "Could you calculate the median of the `continent` column? Why or why not?"
   ]
  },
  {
   "cell_type": "code",
   "execution_count": 15,
   "id": "189724a5",
   "metadata": {
    "slideshow": {
     "slide_type": "-"
    }
   },
   "outputs": [],
   "source": [
    "### Your answer here"
   ]
  },
  {
   "cell_type": "markdown",
   "id": "c73aabe4",
   "metadata": {
    "slideshow": {
     "slide_type": "slide"
    }
   },
   "source": [
    "#### Solution\n",
    "\n",
    "- You cannot calculate the median of `continent`, which is a **categorical** variable.\n",
    "- The `median` can only be calculated for ordinal (ranked) or interval/ratio variables.\n"
   ]
  },
  {
   "cell_type": "markdown",
   "id": "d7c5e7ca",
   "metadata": {
    "slideshow": {
     "slide_type": "slide"
    }
   },
   "source": [
    "### The *mode*\n",
    "\n",
    "> The **mode** is the most frequent value in a dataset. \n",
    "\n",
    "Unlike the `median` or `mean`, the `mode` can be used with **categorical** data."
   ]
  },
  {
   "cell_type": "code",
   "execution_count": 16,
   "id": "e139d23f",
   "metadata": {
    "slideshow": {
     "slide_type": "-"
    }
   },
   "outputs": [
    {
     "data": {
      "text/plain": [
       "0    Water\n",
       "Name: Type 1, dtype: object"
      ]
     },
     "execution_count": 16,
     "metadata": {},
     "output_type": "execute_result"
    }
   ],
   "source": [
    "df_pokemon = pd.read_csv(\"data/pokemon.csv\")\n",
    "### Most common type = Water\n",
    "df_pokemon['Type 1'].mode()"
   ]
  },
  {
   "cell_type": "markdown",
   "id": "862b4479",
   "metadata": {
    "slideshow": {
     "slide_type": "slide"
    }
   },
   "source": [
    "#### `mode()` returns multiple values?\n",
    "\n",
    "- If multiple values *tie* for the most frequent, `mode()` will return all of them.\n",
    "- This is because technically, a distribution can have multiple modes!"
   ]
  },
  {
   "cell_type": "code",
   "execution_count": 17,
   "id": "b422f679",
   "metadata": {},
   "outputs": [
    {
     "data": {
      "text/plain": [
       "0          241.165876\n",
       "1          277.551859\n",
       "2          298.846212\n",
       "3          299.850319\n",
       "4          312.188423\n",
       "            ...      \n",
       "1699     80894.883260\n",
       "1700     95458.111760\n",
       "1701    108382.352900\n",
       "1702    109347.867000\n",
       "1703    113523.132900\n",
       "Name: gdp_cap, Length: 1704, dtype: float64"
      ]
     },
     "execution_count": 17,
     "metadata": {},
     "output_type": "execute_result"
    }
   ],
   "source": [
    "df_gapminder['gdp_cap'].mode()"
   ]
  },
  {
   "cell_type": "markdown",
   "id": "1d406ca3",
   "metadata": {
    "slideshow": {
     "slide_type": "slide"
    }
   },
   "source": [
    "### Central tendency: a summary\n",
    "\n",
    "|Measure|Can be used for:|Limitations|\n",
    "|-------|----------------|-----------|\n",
    "|Mean|Continuous data|Affected by skew and outliers|\n",
    "|Median|Continuous data|Doesn't include *values* of all data points in calculation (only ranks)|\n",
    "|Mode|Continuous and Categorical data|Only considers the *most* frequent; ignores other values|"
   ]
  },
  {
   "cell_type": "markdown",
   "id": "16ffed01",
   "metadata": {},
   "source": [
    "## Quantiles\n",
    "\n",
    "**Quantiles** are descriptive statistics that divide an ordered dataset into equal parts. The most common quantiles are:\n",
    "\n",
    "- **Median** (quantile of order 0.5),\n",
    "- **Quartiles** (divide data into 4 parts),\n",
    "- **Deciles** (divide data into 10 parts),\n",
    "- **Percentiles** (divide data into 100 parts).\n",
    "\n",
    "### Definition\n",
    "\n",
    "A quantile of order $q \\in (0,1)$ is a value $x_q$ such that:\n",
    "\n",
    "$$\n",
    "P(X \\leq x_q) = q\n",
    "$$\n",
    "\n",
    "In other words: $q \\cdot 100\\%$ of the values in the dataset are less than or equal to $x_q$.\n",
    "\n",
    "### Formula (for an ordered dataset)\n",
    "\n",
    "For a dataset $x_1, x_2, \\ldots, x_n$ sorted in ascending order, the quantile of order $q$ is calculated as:\n",
    "\n",
    "1. Compute the positional index:\n",
    "\n",
    "$$\n",
    "i = q \\cdot (n + 1)\n",
    "$$\n",
    "\n",
    "2. If $i$ is an integer, the quantile is $x_i$.\n",
    "\n",
    "3. If $i$ is not an integer, interpolate linearly between the neighboring values:\n",
    "\n",
    "$$\n",
    "x_q = x_{\\lfloor i \\rfloor} + (i - \\lfloor i \\rfloor) \\cdot (x_{\\lceil i \\rceil} - x_{\\lfloor i \\rfloor})\n",
    "$$\n",
    "\n",
    "**Note:** In practice, different methods for calculating quantiles are used — libraries like NumPy or Pandas offer various modes (e.g., `method='linear'`, `method='midpoint'`).\n",
    "\n",
    "### Example - Manual Calculation\n",
    "\n",
    "For the dataset:  \n",
    "$\n",
    "[3, 7, 8, 5, 12, 14, 21, 13, 18]\n",
    "$\n",
    "\n",
    "1. Sort the data in ascending order:\n",
    "\n",
    "$\n",
    "[3, 5, 7, 8, 12, 13, 14, 18, 21]\n",
    "$\n",
    "\n",
    "2. Median (quantile of order 0.5):\n",
    "\n",
    "The number of elements $n = 9$, the middle element is the 5th value:\n",
    "\n",
    "$\n",
    "\\text{Median} = x_5 = 12\n",
    "$\n",
    "\n",
    "3. First quartile (Q1, quantile of order 0.25):\n",
    "\n",
    "$\n",
    "i = 0.25 \\cdot (9 + 1) = 2.5\n",
    "$\n",
    "\n",
    "Interpolate between $x_2 = 5$ and $x_3 = 7$:\n",
    "\n",
    "$\n",
    "Q_1 = 5 + 0.5 \\cdot (7 - 5) = 6\n",
    "$\n",
    "\n",
    "4. Third quartile (Q3, quantile of order 0.75):\n",
    "\n",
    "$\n",
    "i = 0.75 \\cdot 10 = 7.5\n",
    "$\n",
    "\n",
    "Interpolate between $x_7 = 14$ and $x_8 = 18$:\n",
    "\n",
    "$\n",
    "Q_3 = 14 + 0.5 \\cdot (18 - 14) = 16\n",
    "$\n",
    "\n",
    "### Deciles\n",
    "\n",
    "**Deciles** divide data into 10 equal parts. For example:\n",
    "\n",
    "- **D1** is the 10th percentile (quantile of order 0.1),\n",
    "- **D5** is the median (0.5),\n",
    "- **D9** is the 90th percentile (0.9).\n",
    "\n",
    "The formula is the same as for general quantiles, using the appropriate $q$. For example, for D3:\n",
    "\n",
    "$\n",
    "q = \\frac{3}{10} = 0.3\n",
    "$\n",
    "\n",
    "### Percentiles\n",
    "\n",
    "**Percentiles** divide data into 100 equal parts. For example:\n",
    "\n",
    "- **P25** = Q1,\n",
    "- **P50** = median,\n",
    "- **P75** = Q3,\n",
    "- **P90** is the value below which 90% of the data lies.\n",
    "\n",
    "Percentiles help us better understand the data distribution — for example, in standardized tests, results are often expressed as percentiles (e.g., \"85th percentile\" means someone scored better than 85% of the population).\n",
    "\n",
    "---\n",
    "\n",
    "### Quantiles - Summary\n",
    "\n",
    "| Name       | Symbol | Quantile \\( q \\) | Meaning                          |\n",
    "|------------|--------|------------------|----------------------------------|\n",
    "| Q1         | Q1     | 0.25             | 25% of data ≤ Q1                |\n",
    "| Median     | Q2     | 0.5              | 50% of data ≤ Median            |\n",
    "| Q3         | Q3     | 0.75             | 75% of data ≤ Q3                |\n",
    "| Decile 1   | D1     | 0.1              | 10% of data ≤ D1                |\n",
    "| Decile 9   | D9     | 0.9              | 90% of data ≤ D9                |\n",
    "| Percentile 95 | P95 | 0.95             | 95% of data ≤ P95               |\n",
    "\n",
    "---"
   ]
  },
  {
   "cell_type": "markdown",
   "id": "c13f0cd0",
   "metadata": {},
   "source": [
    "### Example - we compute quantiles"
   ]
  },
  {
   "cell_type": "code",
   "execution_count": 13,
   "id": "4732fa5e",
   "metadata": {},
   "outputs": [
    {
     "name": "stdout",
     "output_type": "stream",
     "text": [
      "Sorted data: [3, 5, 7, 8, 12, 13, 14, 18, 21]\n"
     ]
    }
   ],
   "source": [
    "# Sample data\n",
    "mydata = [3, 7, 8, 5, 12, 14, 21, 13, 18]\n",
    "mydata_sorted = sorted(mydata)\n",
    "print(\"Sorted data:\", mydata_sorted)"
   ]
  },
  {
   "cell_type": "code",
   "execution_count": 14,
   "id": "4c41fff1",
   "metadata": {},
   "outputs": [
    {
     "name": "stdout",
     "output_type": "stream",
     "text": [
      "Quantiles:\n",
      "Q1 (25%): 7.0\n",
      "Median (50%): 12.0\n",
      "Q3 (75%): 14.0\n",
      "\n",
      "Deciles:\n",
      "D1 (10%): 4.6\n",
      "D9 (90%): 18.6\n",
      "\n",
      "Percentiles:\n",
      "P95 (95%): 19.799999999999997\n"
     ]
    }
   ],
   "source": [
    "# Converting to Pandas Series object\n",
    "s = pd.Series(mydata)\n",
    "\n",
    "# Quantiles\n",
    "q1 = s.quantile(0.25)\n",
    "median = s.quantile(0.5)\n",
    "q3 = s.quantile(0.75)\n",
    "\n",
    "# Deciles\n",
    "d1 = s.quantile(0.1)\n",
    "d9 = s.quantile(0.9)\n",
    "\n",
    "# Percentiles\n",
    "p95 = s.quantile(0.95)\n",
    "\n",
    "print(\"Quantiles:\")\n",
    "print(f\"Q1 (25%): {q1}\")\n",
    "print(f\"Median (50%): {median}\")\n",
    "print(f\"Q3 (75%): {q3}\")\n",
    "print(\"\\nDeciles:\")\n",
    "print(f\"D1 (10%): {d1}\")\n",
    "print(f\"D9 (90%): {d9}\")\n",
    "print(\"\\nPercentiles:\")\n",
    "print(f\"P95 (95%): {p95}\")"
   ]
  },
  {
   "cell_type": "code",
   "execution_count": 16,
   "id": "b5845439",
   "metadata": {},
   "outputs": [
    {
     "data": {
      "image/png": "[encoded data removed]",
      "text/plain": [
       "<Figure size 600x400 with 1 Axes>"
      ]
     },
     "metadata": {
      "image/png": {
       "height": 392,
       "width": 503
      }
     },
     "output_type": "display_data"
    }
   ],
   "source": [
    "plt.figure(figsize=(6, 4))\n",
    "plt.boxplot(mydata, vert=False, patch_artist=True, boxprops=dict(facecolor='lightblue'));\n",
    "plt.title(\"Boxplot – data distribution\")\n",
    "plt.xlabel(\"Values\")\n",
    "plt.grid(True, axis='x', linestyle='--', alpha=0.7)\n",
    "plt.show()"
   ]
  },
  {
   "cell_type": "markdown",
   "id": "3dd79c2c",
   "metadata": {},
   "source": [
    "### Your turn!\n",
    "\n",
    "Looking at the aforementioned quantile results and the box plot, try to interpret these measures."
   ]
  },
  {
   "cell_type": "markdown",
   "id": "1b6d711b",
   "metadata": {
    "slideshow": {
     "slide_type": "slide"
    }
   },
   "source": [
    "## Variability\n",
    "\n",
    "> **Variability** (or **dispersion**) refers to the degree to which values in a distribution are *spread out*, i.e., different from each other."
   ]
  },
  {
   "cell_type": "markdown",
   "id": "65ccf2d9",
   "metadata": {
    "slideshow": {
     "slide_type": "slide"
    }
   },
   "source": [
    "### The `mean` hides variance\n",
    "\n",
    "Both distributions have the *same* mean, but *different* **standard deviations**."
   ]
  },
  {
   "cell_type": "code",
   "execution_count": 18,
   "id": "aa87cf4d",
   "metadata": {
    "slideshow": {
     "slide_type": "-"
    }
   },
   "outputs": [
    {
     "data": {
      "text/plain": [
       "Text(0.5, 1.0, 'Higher variance')"
      ]
     },
     "execution_count": 18,
     "metadata": {},
     "output_type": "execute_result"
    },
    {
     "data": {
      "image/png": "[encoded data removed]",
      "text/plain": [
       "<Figure size 432x288 with 2 Axes>"
      ]
     },
     "metadata": {
      "image/png": {
       "height": 263,
       "width": 375
      },
      "needs_background": "light"
     },
     "output_type": "display_data"
    }
   ],
   "source": [
    "### Create distributions\n",
    "d1 = np.random.normal(loc = 0, scale = 1, size = 1000)\n",
    "d2 = np.random.normal(loc = 0, scale = 5, size = 1000)\n",
    "### Create subplots\n",
    "fig, axes = plt.subplots(1, 2, sharex=True, sharey=True)\n",
    "p1 = axes[0].hist(d1, alpha = .5)\n",
    "p2 = axes[1].hist(d2, alpha = .5)\n",
    "axes[0].set_title(\"Lower variance\")\n",
    "axes[1].set_title(\"Higher variance\")"
   ]
  },
  {
   "cell_type": "markdown",
   "id": "0d3a1076",
   "metadata": {
    "slideshow": {
     "slide_type": "slide"
    }
   },
   "source": [
    "### Capturing variability\n",
    "\n",
    "There are at least *three* major approaches to quantifying variability:\n",
    "\n",
    "- **Range**: the difference between the `maximum` and `minimum` value. \n",
    "- **Interquartile range (IQR)**: The range of the middle 50% of data.  \n",
    "- **Standard deviation**: the typical amount that scores deviate from the mean."
   ]
  },
  {
   "cell_type": "markdown",
   "id": "079082a0",
   "metadata": {
    "slideshow": {
     "slide_type": "slide"
    }
   },
   "source": [
    "### Range\n",
    "\n",
    "> **Range** is the difference between the `maximum` and `minimum` value.\n",
    "\n",
    "Intuitive, but only considers two values in the entire distribution."
   ]
  },
  {
   "cell_type": "code",
   "execution_count": 19,
   "id": "d3501a1d",
   "metadata": {},
   "outputs": [
    {
     "data": {
      "text/plain": [
       "6.671539927777442"
      ]
     },
     "execution_count": 19,
     "metadata": {},
     "output_type": "execute_result"
    }
   ],
   "source": [
    "d1.max() - d1.min()"
   ]
  },
  {
   "cell_type": "code",
   "execution_count": 20,
   "id": "ceeaba65",
   "metadata": {},
   "outputs": [
    {
     "data": {
      "text/plain": [
       "29.536578725663045"
      ]
     },
     "execution_count": 20,
     "metadata": {},
     "output_type": "execute_result"
    }
   ],
   "source": [
    "d2.max() - d2.min()"
   ]
  },
  {
   "cell_type": "markdown",
   "id": "293cfcb7",
   "metadata": {
    "slideshow": {
     "slide_type": "slide"
    }
   },
   "source": [
    "### IQR\n",
    "\n",
    "> **Interquartile range (IQR)** is the difference between the value at the 75% percentile and the value at the 25% percentile.\n",
    "\n",
    "Focuses on **middle 50%**, but still only considers two values."
   ]
  },
  {
   "cell_type": "code",
   "execution_count": 21,
   "id": "84f6740f",
   "metadata": {},
   "outputs": [
    {
     "data": {
      "text/plain": [
       "1.353946514402774"
      ]
     },
     "execution_count": 21,
     "metadata": {},
     "output_type": "execute_result"
    }
   ],
   "source": [
    "## Get 75% and 25% values\n",
    "q3, q1 = np.percentile(d1, [75 ,25])\n",
    "q3 - q1"
   ]
  },
  {
   "cell_type": "code",
   "execution_count": 22,
   "id": "395472da",
   "metadata": {},
   "outputs": [
    {
     "data": {
      "text/plain": [
       "6.923650741817414"
      ]
     },
     "execution_count": 22,
     "metadata": {},
     "output_type": "execute_result"
    }
   ],
   "source": [
    "## Get 75% and 25% values\n",
    "q3, q1 = np.percentile(d2, [75 ,25])\n",
    "q3 - q1"
   ]
  },
  {
   "cell_type": "markdown",
   "id": "0eca5265",
   "metadata": {
    "slideshow": {
     "slide_type": "slide"
    }
   },
   "source": [
    "### Standard deviation\n",
    "\n",
    "> **Standard deviation (SD)** measures the *typical amount* that scores in a distribution deviate from the mean.\n",
    "\n",
    "Things to keep in mind:\n",
    "\n",
    "- SD is the *square root* of the [variance](https://en.wikipedia.org/wiki/Variance).  \n",
    "- There are actually *two* measures of SD:\n",
    "   - Population SD: when you're measuring the entire population of interest (very rare).  \n",
    "   - Sample SD: when you're measuring a *sample* (the typical case); we'll focus on this one."
   ]
  },
  {
   "cell_type": "markdown",
   "id": "2aa27279",
   "metadata": {
    "slideshow": {
     "slide_type": "slide"
    }
   },
   "source": [
    "#### Sample SD\n",
    "\n",
    "The formula for **sample standard deviation** of $X$ is as follows:\n",
    "\n",
    "$\\Large s = \\sqrt{\\frac{\\sum{(X_i - \\bar{X})^2}}{n - 1}}$\n",
    "\n",
    "- $n$: number of observations.\n",
    "- $\\bar{X}$: mean of $X$. \n",
    "- $X_i - \\bar{X}$: difference between a particular value of $X$ and `mean`.\n",
    "- $\\sum$: *sum* of all these squared deviations."
   ]
  },
  {
   "cell_type": "markdown",
   "id": "d7589d71",
   "metadata": {
    "slideshow": {
     "slide_type": "slide"
    }
   },
   "source": [
    "#### Check-in\n",
    "\n",
    "The formula involves summing the **squared deviations** of each value in $X$ with the mean of $X$. Why do you think we *square* these deviations first?\n",
    "\n",
    "$\\Large\\sum{(X_i - \\bar{X})^2}$"
   ]
  },
  {
   "cell_type": "code",
   "execution_count": 23,
   "id": "b223e09e",
   "metadata": {},
   "outputs": [],
   "source": [
    "### Your answer here"
   ]
  },
  {
   "cell_type": "markdown",
   "id": "f72a429f",
   "metadata": {
    "slideshow": {
     "slide_type": "slide"
    }
   },
   "source": [
    "#### Solution\n",
    "\n",
    "If you simply summed the *raw deviations* from the `mean`, you'd get `0` (this is part of the definition of the `mean`)."
   ]
  },
  {
   "cell_type": "markdown",
   "id": "629f4e6f",
   "metadata": {
    "slideshow": {
     "slide_type": "slide"
    }
   },
   "source": [
    "#### SD, explained\n",
    "\n",
    "$\\Large s = \\sqrt{\\frac{\\sum{(X_i - \\bar{X})^2}}{n - 1}}$\n",
    "\n",
    "- First, calculate sum of *squared deviations*.\n",
    "   - What is total squared deviation from the `mean`? \n",
    "- Then, divide by `n - 1`: normalize to number of observations.\n",
    "   - What is *average* squared deviation from the `mean`?\n",
    "- Finally, take the *square root*:\n",
    "   - What is *average* deviation from the `mean`?\n",
    "\n",
    "**Standard deviation** represents the *typical* or \"average\" deviation from the `mean`."
   ]
  },
  {
   "cell_type": "markdown",
   "id": "56890445",
   "metadata": {
    "slideshow": {
     "slide_type": "slide"
    }
   },
   "source": [
    "#### Calculating SD in `pandas`"
   ]
  },
  {
   "cell_type": "code",
   "execution_count": 24,
   "id": "5cfdc0c2",
   "metadata": {},
   "outputs": [
    {
     "data": {
      "text/plain": [
       "32.45736586949843"
      ]
     },
     "execution_count": 24,
     "metadata": {},
     "output_type": "execute_result"
    }
   ],
   "source": [
    "df_pokemon['Attack'].std()"
   ]
  },
  {
   "cell_type": "code",
   "execution_count": 25,
   "id": "29cb4502",
   "metadata": {},
   "outputs": [
    {
     "data": {
      "text/plain": [
       "25.534669032332047"
      ]
     },
     "execution_count": 25,
     "metadata": {},
     "output_type": "execute_result"
    }
   ],
   "source": [
    "df_pokemon['HP'].std()"
   ]
  },
  {
   "cell_type": "markdown",
   "id": "0e8a5d22",
   "metadata": {
    "slideshow": {
     "slide_type": "slide"
    }
   },
   "source": [
    "#### Watching out for `np.std`\n",
    "\n",
    "- By default, `numpy.std` will calculate the **population standard deviation**!  \n",
    "- Must modify the `ddof` parameter to calculate **sample standard deviation**.\n",
    "\n",
    "This is a very common mistake."
   ]
  },
  {
   "cell_type": "code",
   "execution_count": 26,
   "id": "b7380458",
   "metadata": {},
   "outputs": [
    {
     "data": {
      "text/plain": [
       "0.9851116165856464"
      ]
     },
     "execution_count": 26,
     "metadata": {},
     "output_type": "execute_result"
    }
   ],
   "source": [
    "### Pop SD\n",
    "d1.std()"
   ]
  },
  {
   "cell_type": "code",
   "execution_count": 27,
   "id": "a55e6978",
   "metadata": {},
   "outputs": [
    {
     "data": {
      "text/plain": [
       "0.9856045421189125"
      ]
     },
     "execution_count": 27,
     "metadata": {},
     "output_type": "execute_result"
    }
   ],
   "source": [
    "### Sample SD\n",
    "d1.std(ddof = 1)"
   ]
  },
  {
   "cell_type": "markdown",
   "id": "4ab1af9c",
   "metadata": {},
   "source": [
    "### Coefficient of variation (CV).\n",
    "\n",
    "- The coefficient of variation (CV) is equal to the standard deviation divided by the mean.\n",
    "- It is also known as “relative standard deviation.”\n",
    "\n",
    "$$\n",
    "CV = \\frac{s}{\\bar{x}} \\cdot 100%\n",
    "$$"
   ]
  },
  {
   "cell_type": "code",
   "execution_count": 18,
   "id": "78073f8a",
   "metadata": {},
   "outputs": [
    {
     "name": "stdout",
     "output_type": "stream",
     "text": [
      "Mean: 5.0\n",
      "Var for the sample (scipy): 4.571428571428571\n",
      "SD for the sample (scipy): 2.138089935299395\n",
      "CV (scipy): 42.76%\n"
     ]
    }
   ],
   "source": [
    "import scipy.stats as stats\n",
    "X = [2, 4, 4, 4, 5, 5, 7, 9]\n",
    "mean = np.mean(X)\n",
    "\n",
    "# Variance and standard deviation from scipy (for a sample!)\n",
    "var_sample = stats.tvar(X)      # var for the sample\n",
    "std_sample = stats.tstd(X)      # sd for the sample\n",
    "\n",
    "# CV (sample)\n",
    "cv_sample = (std_sample / mean) * 100\n",
    "\n",
    "print(f\"Mean: {mean}\")\n",
    "print(f\"Var for the sample (scipy): {var_sample}\")\n",
    "print(f\"SD for the sample (scipy): {std_sample}\")\n",
    "print(f\"CV (scipy): {cv_sample:.2f}%\")"
   ]
  },
  {
   "cell_type": "markdown",
   "id": "4e27131b",
   "metadata": {},
   "source": [
    "## Measures of the shape of the distribution\n",
    "\n",
    "Now we will look at measures of the shape of the distribution. There are two statistical measures that can tell us about the shape of a distribution. These are **skewness** and **kurtosis**. These measures can be used to tell us about the shape of the distribution of a data set."
   ]
  },
  {
   "cell_type": "markdown",
   "id": "9359f347",
   "metadata": {},
   "source": [
    "## Skewness\n",
    "- **Skewness** is a measure of the symmetry of a distribution, or more precisely, the lack of symmetry. \n",
    "- It is used to determine the lack of symmetry with respect to the mean of a data set. \n",
    "- It is a characteristic of deviation from the mean. \n",
    "- It is used to indicate the shape of a data distribution."
   ]
  },
  {
   "cell_type": "markdown",
   "id": "5ab2b54d",
   "metadata": {},
   "source": [
    "Skewness is a measure of the asymmetry of the distribution of data relative to the mean. It tells us whether the data are more “stretched” to one side.\n",
    "\n",
    "Interpretation:\n",
    "\n",
    "- Skewness > 0 - right-sided (positive): long tail on the right (larger values are more dispersed)\n",
    "- Skewness < 0 - left (negative): long tail on the left (smaller values are more dispersed)\n",
    "- Skewness ≈ 0 - symmetric distribution (e.g., normal distribution)\n",
    "\n",
    "Formula (for the sample):\n",
    "\n",
    "$$\n",
    "A = \\frac{n}{(n-1)(n-2)} \\sum_{i=1}^{n} \\left( \\frac{x_i - \\bar{x}}{s} \\right)^3\n",
    "$$\n",
    "where:\n",
    "\t- $n$ - number of observations\n",
    "\t- $\\bar{x}$ - sample mean\n",
    "\t- $s$ - standard deviation of the sample"
   ]
  },
  {
   "cell_type": "markdown",
   "id": "278fb002",
   "metadata": {},
   "source": [
    "![title](img/skos.png)"
   ]
  },
  {
   "cell_type": "markdown",
   "id": "815da8a1",
   "metadata": {},
   "source": [
    "\n",
    "#### Negative skewness\n",
    "\n",
    "- In this case, the data is skewed or shifted to the left. \n",
    "- By skewed to the left, we mean that the left tail is long relative to the right tail. \n",
    "- The data values may extend further to the left, but are concentrated on the right side. \n",
    "- So we are dealing with a long tail, and the distortion is caused by very small values that pull the mean down and it is smaller than the median. \n",
    "- In this case, we have **Mean < Median < Mode**.\n",
    "      \n",
    "\n",
    "#### Zero skewness\n",
    "\n",
    "- This means that the data set is symmetric. \n",
    "- A dataset is symmetric if it looks the same to the left and right of the center point. \n",
    "- A dataset is bell-shaped or symmetric. \n",
    "- A perfectly symmetrical data set will have a skewness of zero. \n",
    "- So a normal distribution that is perfectly symmetric has a skewness of 0. \n",
    "- In this case, we have **Mean = Median = Mode**.\n",
    "      \n",
    "\n",
    "#### Positive skewness\n",
    "\n",
    "- The data set is skewed or shifted to the right. \n",
    "- By skewed to the right, we mean that the right tail is long relative to the left tail. \n",
    "- The data values are concentrated on the right side. \n",
    "- There is a long tail on the right side, which is caused by very large values that pull the mean up and it is larger than the median. \n",
    "- So we have **Mean > Median > Mode**."
   ]
  },
  {
   "cell_type": "code",
   "execution_count": 20,
   "id": "3c18030d",
   "metadata": {},
   "outputs": [
    {
     "name": "stdout",
     "output_type": "stream",
     "text": [
      "Skewness for X: 0.6562\n"
     ]
    }
   ],
   "source": [
    "X = [2, 4, 4, 4, 5, 5, 7, 9]\n",
    "skewness = stats.skew(X)\n",
    "print(f\"Skewness for X: {skewness:.4f}\")\n"
   ]
  },
  {
   "cell_type": "markdown",
   "id": "d91fbc5a",
   "metadata": {},
   "source": [
    "### Your turn.\n",
    "\n",
    "Try to interpret the above mentioned measures and calculate sample statistics for several Types of Pokémons."
   ]
  },
  {
   "cell_type": "code",
   "execution_count": null,
   "id": "daf47f7e",
   "metadata": {},
   "outputs": [],
   "source": [
    "# Your code here"
   ]
  },
  {
   "cell_type": "markdown",
   "id": "0bc0c5ba",
   "metadata": {},
   "source": [
    "## Kurtosis\n",
    "\n",
    "Contrary to what some textbooks claim, kurtosis does not measure the \"flatness\" or \"peakedness\" of a distribution.\n",
    "\n",
    "Kurtosis depends on the intensity of extreme values, so it measures what happens in the \"tails\" of the distribution, and the shape of the \"peak\" is irrelevant!\n",
    "\n",
    "### Sample Kurtosis:\n",
    "\n",
    "$$\n",
    "\\text{Kurtosis} = \\frac{1}{n} \\sum_{i=1}^{n} \\left( \\frac{x_i - \\bar{x}}{s} \\right)^4\n",
    "$$\n",
    "\n",
    "$$\n",
    "\\text{Excess Kurtosis} = \\text{Kurtosis} - 3\n",
    "$$\n",
    "\n",
    "#### Reference Range for Kurtosis\n",
    "- The reference standard is the normal distribution, which has a kurtosis of 3.  \n",
    "- Often, instead of kurtosis, **excess kurtosis** is presented, where **excess kurtosis** is simply **kurtosis - 3**.  \n",
    "\n",
    "#### Mesokurtic Curve\n",
    "- A normal distribution has a kurtosis of exactly 3 (**excess kurtosis** of exactly 0).  \n",
    "- Any distribution with kurtosis ≈3 (excess kurtosis ≈ 0) is called **mesokurtic**.\n",
    "\n",
    "#### Platykurtic Curve\n",
    "- A distribution with kurtosis < 3 (**excess kurtosis** < 0) is called **platykurtic**.  \n",
    "- Compared to the normal distribution, its central peak is lower and wider, and its tails are shorter and thinner.\n",
    "\n",
    "#### Leptokurtic Curve\n",
    "- A distribution with kurtosis > 3 (**excess kurtosis** > 0) is called **leptokurtic**.  \n",
    "- Compared to the normal distribution, its central peak is higher and sharper, and its tails are longer and thicker."
   ]
  },
  {
   "cell_type": "markdown",
   "id": "ac777d68",
   "metadata": {},
   "source": [
    "![title](img/ku.png)"
   ]
  },
  {
   "cell_type": "code",
   "execution_count": 21,
   "id": "10d390f2",
   "metadata": {},
   "outputs": [
    {
     "name": "stdout",
     "output_type": "stream",
     "text": [
      "Normalized kurtosis: -0.21875\n",
      "Raw kurtosis: 2.78125\n"
     ]
    }
   ],
   "source": [
    "from scipy.stats import kurtosis\n",
    "mydata = [2, 4, 4, 4, 5, 5, 7, 9]\n",
    "# Calculation of kurtosis (normalized by default, i.e. -3 already subtracted)\n",
    "norm_kurtosis = kurtosis(mydata)\n",
    "# If you want raw (without subtracting 3), set fisher=False\n",
    "kurtosis_raw = kurtosis(mydata, fisher=False)\n",
    "print(\"Normalized kurtosis:\", norm_kurtosis)\n",
    "print(\"Raw kurtosis:\", kurtosis_raw)"
   ]
  },
  {
   "cell_type": "markdown",
   "id": "2f7cacb6",
   "metadata": {},
   "source": [
    "## Summary statistics\n",
    "\n",
    "A great tool for creating elegant summaries of descriptive statistics in Markdown format (ideal for Jupyter Notebooks) is pandas, especially in combination with the .describe() function and tabulate.\n",
    "\n",
    "Example with pandas + tabulate (nice table in Markdown):"
   ]
  },
  {
   "cell_type": "code",
   "execution_count": 22,
   "id": "869d3ab8",
   "metadata": {},
   "outputs": [],
   "source": [
    "from scipy.stats import skew, kurtosis\n",
    "from tabulate import tabulate\n",
    "\n",
    "def markdown_summary(df, round_decimals=3):\n",
    "    summary = df.describe().T  # We transpose so that the variables are in lines\n",
    "    # Add skewness and kurtosis\n",
    "    summary['Skewness'] = df.skew()\n",
    "    summary['Kurtosis'] = df.kurt()\n",
    "    # Rounding up the results\n",
    "    summary = summary.round(round_decimals)\n",
    "    # A table with the results!\n",
    "    return tabulate(summary, headers='keys', tablefmt='github')"
   ]
  },
  {
   "cell_type": "code",
   "execution_count": 23,
   "id": "97a54a85",
   "metadata": {},
   "outputs": [
    {
     "name": "stdout",
     "output_type": "stream",
     "text": [
      "|            |   count |    mean |     std |   min |    25% |   50% |    75% |   max |   Skewness |   Kurtosis |\n",
      "|------------|---------|---------|---------|-------|--------|-------|--------|-------|------------|------------|\n",
      "| #          |     800 | 362.814 | 208.344 |     1 | 184.75 | 364.5 | 539.25 |   721 |     -0.001 |     -1.166 |\n",
      "| Total      |     800 | 435.102 | 119.963 |   180 | 330    | 450   | 515    |   780 |      0.153 |     -0.507 |\n",
      "| HP         |     800 |  69.259 |  25.535 |     1 |  50    |  65   |  80    |   255 |      1.568 |      7.232 |\n",
      "| Attack     |     800 |  79.001 |  32.457 |     5 |  55    |  75   | 100    |   190 |      0.552 |      0.17  |\n",
      "| Defense    |     800 |  73.842 |  31.184 |     5 |  50    |  70   |  90    |   230 |      1.156 |      2.726 |\n",
      "| Sp. Atk    |     800 |  72.82  |  32.722 |    10 |  49.75 |  65   |  95    |   194 |      0.745 |      0.298 |\n",
      "| Sp. Def    |     800 |  71.902 |  27.829 |    20 |  50    |  70   |  90    |   230 |      0.854 |      1.628 |\n",
      "| Speed      |     800 |  68.278 |  29.06  |     5 |  45    |  65   |  90    |   180 |      0.358 |     -0.236 |\n",
      "| Generation |     800 |   3.324 |   1.661 |     1 |   2    |   3   |   5    |     6 |      0.014 |     -1.24  |\n"
     ]
    }
   ],
   "source": [
    "# We select only numerical columns for analysis\n",
    "quantitative = df_pokemon.select_dtypes(include='number')\n",
    "\n",
    "# We use our function\n",
    "print(markdown_summary(quantitative))"
   ]
  },
  {
   "cell_type": "markdown",
   "id": "c5fafdcb",
   "metadata": {},
   "source": [
    "To make a summary table cross-sectionally (that is, **by group**), you need to use the groupby() method on DataFrame, and then, for example, describe() or your own aggregation function.\n",
    "\n",
    "Suppose you want to group data by “Type 1” column (i.e., for example, Pokémon type: Fire, Water, etc.), and then summarize quantitative variables (mean, variance, min, max, etc.)."
   ]
  },
  {
   "cell_type": "code",
   "execution_count": 24,
   "id": "8e173b18",
   "metadata": {},
   "outputs": [
    {
     "name": "stdout",
     "output_type": "stream",
     "text": [
      "              #                                                               \\\n",
      "          count        mean         std    min     25%    50%     75%    max   \n",
      "Type 1                                                                         \n",
      "Bug        69.0  334.492754  210.445160   10.0  168.00  291.0  543.00  666.0   \n",
      "Dark       31.0  461.354839  176.022072  197.0  282.00  509.0  627.00  717.0   \n",
      "Dragon     32.0  474.375000  170.190169  147.0  373.00  443.5  643.25  718.0   \n",
      "Electric   44.0  363.500000  202.731063   25.0  179.75  403.5  489.75  702.0   \n",
      "Fairy      17.0  449.529412  271.983942   35.0  176.00  669.0  683.00  716.0   \n",
      "Fighting   27.0  363.851852  218.565200   56.0  171.50  308.0  536.00  701.0   \n",
      "Fire       52.0  327.403846  226.262840    4.0  143.50  289.5  513.25  721.0   \n",
      "Flying      4.0  677.750000   42.437209  641.0  641.00  677.5  714.25  715.0   \n",
      "Ghost      32.0  486.500000  209.189218   92.0  354.75  487.0  709.25  711.0   \n",
      "Grass      70.0  344.871429  200.264385    1.0  187.25  372.0  496.75  673.0   \n",
      "Ground     32.0  356.281250  204.899855   27.0  183.25  363.5  535.25  645.0   \n",
      "Ice        24.0  423.541667  175.465834  124.0  330.25  371.5  583.25  713.0   \n",
      "Normal     98.0  319.173469  193.854820   16.0  161.25  296.5  483.00  676.0   \n",
      "Poison     28.0  251.785714  228.801767   23.0   33.75  139.5  451.25  691.0   \n",
      "Psychic    57.0  380.807018  194.600455   63.0  201.00  386.0  528.00  720.0   \n",
      "Rock       44.0  392.727273  213.746140   74.0  230.75  362.5  566.25  719.0   \n",
      "Steel      27.0  442.851852  164.847180  208.0  305.50  379.0  600.50  707.0   \n",
      "Water     112.0  303.089286  188.440807    7.0  130.00  275.0  456.25  693.0   \n",
      "\n",
      "          Total              ...   Speed        Generation            \\\n",
      "          count        mean  ...     75%    max      count      mean   \n",
      "Type 1                       ...                                       \n",
      "Bug        69.0  378.927536  ...   85.00  160.0       69.0  3.217391   \n",
      "Dark       31.0  445.741935  ...   98.50  125.0       31.0  4.032258   \n",
      "Dragon     32.0  550.531250  ...   97.75  120.0       32.0  3.875000   \n",
      "Electric   44.0  443.409091  ...  101.50  140.0       44.0  3.272727   \n",
      "Fairy      17.0  413.176471  ...   60.00   99.0       17.0  4.117647   \n",
      "Fighting   27.0  416.444444  ...   86.00  118.0       27.0  3.370370   \n",
      "Fire       52.0  458.076923  ...   96.25  126.0       52.0  3.211538   \n",
      "Flying      4.0  485.000000  ...  121.50  123.0        4.0  5.500000   \n",
      "Ghost      32.0  439.562500  ...   84.25  130.0       32.0  4.187500   \n",
      "Grass      70.0  421.142857  ...   80.00  145.0       70.0  3.357143   \n",
      "Ground     32.0  437.500000  ...   90.00  120.0       32.0  3.156250   \n",
      "Ice        24.0  433.458333  ...   80.00  110.0       24.0  3.541667   \n",
      "Normal     98.0  401.683673  ...   90.75  135.0       98.0  3.051020   \n",
      "Poison     28.0  399.142857  ...   77.00  130.0       28.0  2.535714   \n",
      "Psychic    57.0  475.947368  ...  104.00  180.0       57.0  3.385965   \n",
      "Rock       44.0  453.750000  ...   70.00  150.0       44.0  3.454545   \n",
      "Steel      27.0  487.703704  ...   70.00  110.0       27.0  3.851852   \n",
      "Water     112.0  430.455357  ...   82.00  122.0      112.0  2.857143   \n",
      "\n",
      "                                               \n",
      "               std  min   25%  50%   75%  max  \n",
      "Type 1                                         \n",
      "Bug       1.598433  1.0  2.00  3.0  5.00  6.0  \n",
      "Dark      1.353609  2.0  3.00  5.0  5.00  6.0  \n",
      "Dragon    1.431219  1.0  3.00  4.0  5.00  6.0  \n",
      "Electric  1.604697  1.0  2.00  4.0  4.25  6.0  \n",
      "Fairy     2.147160  1.0  2.00  6.0  6.00  6.0  \n",
      "Fighting  1.800601  1.0  1.50  3.0  5.00  6.0  \n",
      "Fire      1.850665  1.0  1.00  3.0  5.00  6.0  \n",
      "Flying    0.577350  5.0  5.00  5.5  6.00  6.0  \n",
      "Ghost     1.693203  1.0  3.00  4.0  6.00  6.0  \n",
      "Grass     1.579173  1.0  2.00  3.5  5.00  6.0  \n",
      "Ground    1.588454  1.0  1.75  3.0  5.00  5.0  \n",
      "Ice       1.473805  1.0  2.75  3.0  5.00  6.0  \n",
      "Normal    1.575407  1.0  2.00  3.0  4.00  6.0  \n",
      "Poison    1.752927  1.0  1.00  1.5  4.00  6.0  \n",
      "Psychic   1.644845  1.0  2.00  3.0  5.00  6.0  \n",
      "Rock      1.848375  1.0  2.00  3.0  5.00  6.0  \n",
      "Steel     1.350319  2.0  3.00  3.0  5.00  6.0  \n",
      "Water     1.558800  1.0  1.00  3.0  4.00  6.0  \n",
      "\n",
      "[18 rows x 72 columns]\n"
     ]
    }
   ],
   "source": [
    "# Grouping by ‘Type 1’ column and statistical summary of numeric columns\n",
    "group_summary = df_pokemon.groupby('Type 1')[quantitative.columns].describe()\n",
    "print(group_summary)"
   ]
  },
  {
   "cell_type": "markdown",
   "id": "42674f42",
   "metadata": {},
   "source": [
    "### Your turn!\n",
    "\n",
    "Try to interpret some of the mentioned statistics."
   ]
  },
  {
   "cell_type": "markdown",
   "id": "955d730b",
   "metadata": {
    "slideshow": {
     "slide_type": "slide"
    }
   },
   "source": [
    "## Detecting (potential) outliers with z-scores\n",
    "\n",
    "Defining and detecting outliers is notoriously difficult.\n",
    "\n",
    "- Sometimes, an observation in a histogram clearly *looks* like an outlier. \n",
    "- But how do we quantify this?"
   ]
  },
  {
   "cell_type": "markdown",
   "id": "d0f5f55d",
   "metadata": {
    "slideshow": {
     "slide_type": "slide"
    }
   },
   "source": [
    "### What is a z-score?\n",
    "\n",
    "> A **z-score** is a *standardized* measure of how many any given point deviates from the mean:\n",
    "\n",
    "$Z = \\frac{X - \\mu}{\\sigma}$\n",
    "\n",
    "This is useful because it allows us to quantify the **standardized distance** between some observation and the mean."
   ]
  },
  {
   "cell_type": "markdown",
   "id": "3b794957",
   "metadata": {
    "slideshow": {
     "slide_type": "slide"
    }
   },
   "source": [
    "#### Calculating z-scores"
   ]
  },
  {
   "cell_type": "code",
   "execution_count": 43,
   "id": "00f40b92",
   "metadata": {
    "slideshow": {
     "slide_type": "-"
    }
   },
   "outputs": [
    {
     "data": {
      "text/plain": [
       "array([1, 2, 3, 4])"
      ]
     },
     "execution_count": 43,
     "metadata": {},
     "output_type": "execute_result"
    }
   ],
   "source": [
    "## Original distribution\n",
    "numbers"
   ]
  },
  {
   "cell_type": "code",
   "execution_count": 44,
   "id": "d59f6f2a",
   "metadata": {
    "slideshow": {
     "slide_type": "-"
    }
   },
   "outputs": [
    {
     "data": {
      "text/plain": [
       "array([-1.161895  , -0.38729833,  0.38729833,  1.161895  ])"
      ]
     },
     "execution_count": 44,
     "metadata": {},
     "output_type": "execute_result"
    }
   ],
   "source": [
    "## z-scored distribution\n",
    "numbers_z = (numbers - numbers.mean()) / numbers.std(ddof=1)\n",
    "numbers_z"
   ]
  },
  {
   "cell_type": "markdown",
   "id": "26b9019e",
   "metadata": {
    "slideshow": {
     "slide_type": "slide"
    }
   },
   "source": [
    "#### Check-in\n",
    "\n",
    "Can anyone deduce why a z-score would be useful for **defining** outliers?"
   ]
  },
  {
   "cell_type": "markdown",
   "id": "81bef907",
   "metadata": {
    "slideshow": {
     "slide_type": "slide"
    }
   },
   "source": [
    "### Z-scores and outliers\n",
    "\n",
    "> **Outliers** are data points that differ significantly from other points in a distribution.\n",
    "\n",
    "- A **z-score** gives us a *standardized measure* of how different a given value is from the rest of the distribution.\n",
    "- We can define thresholds, e.g.: \n",
    "\n",
    "$\\Large z ≥ |3|$"
   ]
  },
  {
   "cell_type": "markdown",
   "id": "5104c6d9",
   "metadata": {
    "slideshow": {
     "slide_type": "slide"
    }
   },
   "source": [
    "### Testing our operationalization"
   ]
  },
  {
   "cell_type": "code",
   "execution_count": 45,
   "id": "32d543fa",
   "metadata": {
    "slideshow": {
     "slide_type": "-"
    }
   },
   "outputs": [
    {
     "data": {
      "image/png": "[encoded data removed]",
      "text/plain": [
       "<Figure size 432x288 with 1 Axes>"
      ]
     },
     "metadata": {
      "image/png": {
       "height": 248,
       "width": 375
      },
      "needs_background": "light"
     },
     "output_type": "display_data"
    }
   ],
   "source": [
    "## First, let's define a distribution with some possible outliers\n",
    "norm = np.random.normal(loc = 10, scale = 1, size = 1000)\n",
    "upper_outliers = np.array([21, 21, 21, 21]) ## some random outliers\n",
    "data = np.concatenate((norm, upper_outliers))\n",
    "p = plt.hist(data, alpha = .6)"
   ]
  },
  {
   "cell_type": "markdown",
   "id": "fbba2f66",
   "metadata": {
    "slideshow": {
     "slide_type": "slide"
    }
   },
   "source": [
    "#### Z-scoring our distribution\n",
    "\n",
    "What is the **z-score** of the values way off to the right?"
   ]
  },
  {
   "cell_type": "code",
   "execution_count": 46,
   "id": "b56505b1",
   "metadata": {
    "slideshow": {
     "slide_type": "-"
    }
   },
   "outputs": [
    {
     "data": {
      "image/png": "[encoded data removed]",
      "text/plain": [
       "<Figure size 432x288 with 1 Axes>"
      ]
     },
     "metadata": {
      "image/png": {
       "height": 248,
       "width": 375
      },
      "needs_background": "light"
     },
     "output_type": "display_data"
    }
   ],
   "source": [
    "data_z = (data - data.mean()) / data.std(ddof=1)\n",
    "p = plt.hist(data_z, alpha = .6)"
   ]
  },
  {
   "cell_type": "markdown",
   "id": "fc11c18f",
   "metadata": {
    "slideshow": {
     "slide_type": "slide"
    }
   },
   "source": [
    "#### Removing outliers"
   ]
  },
  {
   "cell_type": "code",
   "execution_count": 47,
   "id": "ddeda8ab",
   "metadata": {
    "slideshow": {
     "slide_type": "-"
    }
   },
   "outputs": [
    {
     "data": {
      "image/png": "[encoded data removed]",
      "text/plain": [
       "<Figure size 432x288 with 1 Axes>"
      ]
     },
     "metadata": {
      "image/png": {
       "height": 248,
       "width": 375
      },
      "needs_background": "light"
     },
     "output_type": "display_data"
    }
   ],
   "source": [
    "data_z_filtered = data_z[abs(data_z)<=3]\n",
    "p = plt.hist(data_z_filtered, alpha = .6)"
   ]
  },
  {
   "cell_type": "markdown",
   "id": "aaac5c31",
   "metadata": {
    "slideshow": {
     "slide_type": "slide"
    }
   },
   "source": [
    "### Check-in\n",
    "\n",
    "Can anyone think of challenges or problems with this approach to detecting outliers?"
   ]
  },
  {
   "cell_type": "markdown",
   "id": "bed55f5c",
   "metadata": {
    "slideshow": {
     "slide_type": "slide"
    }
   },
   "source": [
    "### Caveats, complexity, and context\n",
    "\n",
    "- There is not a single unifying definition of what an outlier is.  \n",
    "- Depending on the *shape* of the distribution, removing observations where $z > |3|$ might be removing important data. \n",
    "   - E.g., in a **skewed** distribution, we might just be \"cutting off the tail\".  \n",
    "- Even if the values *do* seem like outliers, there's a philosophical question of **why** and **what that means**.\n",
    "   - Are those values \"random\"? What's the underlying **data-generating process*?\n",
    "\n",
    "This is why statistics is not a mere matter of applying *formulas*. **Context always matters!**"
   ]
  },
  {
   "cell_type": "markdown",
   "id": "f8c10f76",
   "metadata": {
    "slideshow": {
     "slide_type": "slide"
    }
   },
   "source": [
    "## Describing *bivariate* data with correlations\n",
    "\n",
    "- So far, we've been focusing on *univariate data*: a single distribution.\n",
    "- What if we want to describe how *two distributions* relate to each other?\n",
    "   - For today, we'll focus on *continuous distributions*."
   ]
  },
  {
   "cell_type": "markdown",
   "id": "f472d8fc",
   "metadata": {
    "slideshow": {
     "slide_type": "slide"
    }
   },
   "source": [
    "### Bivariate relationships: `height`\n",
    "\n",
    "- A classic example of **continuous bivariate data** is the `height` of a `parent` and `child`.  \n",
    "- [These data were famously collected by Karl Pearson](https://www.kaggle.com/datasets/abhilash04/fathersandsonheight)."
   ]
  },
  {
   "cell_type": "code",
   "execution_count": 3,
   "id": "5ef459fe",
   "metadata": {},
   "outputs": [
    {
     "data": {
      "application/vnd.microsoft.datawrangler.viewer.v0+json": {
       "columns": [
        {
         "name": "index",
         "rawType": "int64",
         "type": "integer"
        },
        {
         "name": "Father",
         "rawType": "float64",
         "type": "float"
        },
        {
         "name": "Son",
         "rawType": "float64",
         "type": "float"
        }
       ],
       "conversionMethod": "pd.DataFrame",
       "ref": "a1c68db0-4638-4817-8f7f-be9061390832",
       "rows": [
        [
         "0",
         "65.0",
         "59.8"
        ],
        [
         "1",
         "63.3",
         "63.2"
        ]
       ],
       "shape": {
        "columns": 2,
        "rows": 2
       }
      },
      "text/html": [
       "<div>\n",
       "<style scoped>\n",
       "    .dataframe tbody tr th:only-of-type {\n",
       "        vertical-align: middle;\n",
       "    }\n",
       "\n",
       "    .dataframe tbody tr th {\n",
       "        vertical-align: top;\n",
       "    }\n",
       "\n",
       "    .dataframe thead th {\n",
       "        text-align: right;\n",
       "    }\n",
       "</style>\n",
       "<table border=\"1\" class=\"dataframe\">\n",
       "  <thead>\n",
       "    <tr style=\"text-align: right;\">\n",
       "      <th></th>\n",
       "      <th>Father</th>\n",
       "      <th>Son</th>\n",
       "    </tr>\n",
       "  </thead>\n",
       "  <tbody>\n",
       "    <tr>\n",
       "      <th>0</th>\n",
       "      <td>65.0</td>\n",
       "      <td>59.8</td>\n",
       "    </tr>\n",
       "    <tr>\n",
       "      <th>1</th>\n",
       "      <td>63.3</td>\n",
       "      <td>63.2</td>\n",
       "    </tr>\n",
       "  </tbody>\n",
       "</table>\n",
       "</div>"
      ],
      "text/plain": [
       "   Father   Son\n",
       "0    65.0  59.8\n",
       "1    63.3  63.2"
      ]
     },
     "execution_count": 3,
     "metadata": {},
     "output_type": "execute_result"
    }
   ],
   "source": [
    "df_height = pd.read_csv(\"data/wrangling/height.csv\")\n",
    "df_height.head(2)"
   ]
  },
  {
   "cell_type": "markdown",
   "id": "1fdd7bab",
   "metadata": {
    "slideshow": {
     "slide_type": "slide"
    }
   },
   "source": [
    "#### Plotting Pearson's height data"
   ]
  },
  {
   "cell_type": "code",
   "execution_count": 4,
   "id": "42e3fab0",
   "metadata": {},
   "outputs": [
    {
     "data": {
      "image/png": "[encoded data removed]",
      "text/plain": [
       "<Figure size 640x480 with 1 Axes>"
      ]
     },
     "metadata": {},
     "output_type": "display_data"
    }
   ],
   "source": [
    "sns.scatterplot(data = df_height, x = \"Father\", y = \"Son\", alpha = .5);"
   ]
  },
  {
   "cell_type": "markdown",
   "id": "a8ff67b8",
   "metadata": {
    "slideshow": {
     "slide_type": "slide"
    }
   },
   "source": [
    "### Introducing linear correlations\n",
    "\n",
    "> A **correlation coefficient** is a number between $[–1, 1]$ that describes the relationship between a pair of variables.\n",
    "\n",
    "Specifically, **Pearson's correlation coefficient** (or Pearson's $r$) describes a (presumed) *linear* relationship.\n",
    "\n",
    "Two key properties:\n",
    "\n",
    "- **Sign**: whether a relationship is positive (+) or negative (–).  \n",
    "- **Magnitude**: the strength of the linear relationship."
   ]
  },
  {
   "cell_type": "markdown",
   "id": "fd3e9050",
   "metadata": {},
   "source": [
    "$$\n",
    "r = \\frac{ \\sum_{i=1}^{n} (x_i - \\bar{x})(y_i - \\bar{y}) }{ \\sqrt{ \\sum_{i=1}^{n} (x_i - \\bar{x})^2 } \\sqrt{ \\sum_{i=1}^{n} (y_i - \\bar{y})^2 } }\n",
    "$$\n",
    "\n",
    "Where:\n",
    "- $r$ - Pearson correlation coefficient\n",
    "- $x_i$, $y_i$ - values of the variables\n",
    "- $\\bar{x}$, $\\bar{y}$ - arithmetic means\n",
    "- $n$ - number of observations"
   ]
  },
  {
   "cell_type": "markdown",
   "id": "faef267b",
   "metadata": {},
   "source": [
    "Pearson's correlation coefficient measures the strength and direction of the linear relationship between two continuous variables. Its value ranges from -1 to 1:\n",
    "- 1 → perfect positive linear correlation\n",
    "- 0 → no linear correlation\n",
    "- -1 → perfect negative linear correlation\n",
    "\n",
    "This coefficient does not tell about nonlinear correlations and is sensitive to outliers."
   ]
  },
  {
   "cell_type": "markdown",
   "id": "cb9f67ed",
   "metadata": {
    "slideshow": {
     "slide_type": "slide"
    }
   },
   "source": [
    "### Calculating Pearson's $r$ with `scipy`\n",
    "\n",
    "`scipy.stats` has a function called `pearsonr`, which will calculate this relationship for you.\n",
    "\n",
    "Returns two numbers:\n",
    "\n",
    "- $r$: the correlation coefficent.  \n",
    "- $p$: the **p-value** of this correlation coefficient, i.e., whether it's *significantly different* from `0`."
   ]
  },
  {
   "cell_type": "code",
   "execution_count": 28,
   "id": "7e84da43",
   "metadata": {
    "slideshow": {
     "slide_type": "-"
    }
   },
   "outputs": [
    {
     "data": {
      "text/plain": [
       "PearsonRResult(statistic=np.float64(0.5011626808075912), pvalue=np.float64(1.2729275743661585e-69))"
      ]
     },
     "execution_count": 28,
     "metadata": {},
     "output_type": "execute_result"
    }
   ],
   "source": [
    "ss.pearsonr(df_height['Father'], df_height['Son'])"
   ]
  },
  {
   "cell_type": "markdown",
   "id": "e0956808",
   "metadata": {
    "slideshow": {
     "slide_type": "slide"
    }
   },
   "source": [
    "#### Check-in\n",
    "\n",
    "Using `scipy.stats.pearsonr` (here, `ss.pearsonr`), calculate Pearson's $r$ for the relationship between the `Attack` and `Defense` of Pokemon.\n",
    "\n",
    "- Is this relationship positive or negative?  \n",
    "- How strong is this relationship?"
   ]
  },
  {
   "cell_type": "code",
   "execution_count": 66,
   "id": "88d1ac2c",
   "metadata": {
    "slideshow": {
     "slide_type": "-"
    }
   },
   "outputs": [],
   "source": [
    "### Your code here"
   ]
  },
  {
   "cell_type": "markdown",
   "id": "5178f1ec",
   "metadata": {
    "slideshow": {
     "slide_type": "slide"
    }
   },
   "source": [
    "#### Solution"
   ]
  },
  {
   "cell_type": "code",
   "execution_count": 69,
   "id": "24d1b996",
   "metadata": {
    "slideshow": {
     "slide_type": "-"
    }
   },
   "outputs": [
    {
     "data": {
      "text/plain": [
       "(0.4386870551184888, 5.858479864290367e-39)"
      ]
     },
     "execution_count": 69,
     "metadata": {},
     "output_type": "execute_result"
    }
   ],
   "source": [
    "ss.pearsonr(df_pokemon['Attack'], df_pokemon['Defense'])"
   ]
  },
  {
   "cell_type": "markdown",
   "id": "f1175c4b",
   "metadata": {
    "slideshow": {
     "slide_type": "slide"
    }
   },
   "source": [
    "#### Check-in\n",
    "\n",
    "Pearson'r $r$ measures the *linear correlation* between two variables. Can anyone think of potential limitations to this approach?"
   ]
  },
  {
   "cell_type": "markdown",
   "id": "3eeabdf8",
   "metadata": {
    "slideshow": {
     "slide_type": "slide"
    }
   },
   "source": [
    "### Limitations of Pearson's $r$\n",
    "\n",
    "- Pearson's $r$ *presumes* a linear relationship and tries to quantify its strength and direction.  \n",
    "- But many relationships are **non-linear**!  \n",
    "- Unless we visualize our data, relying only on Pearson'r $r$ could mislead us."
   ]
  },
  {
   "cell_type": "markdown",
   "id": "6a28bc0c",
   "metadata": {
    "slideshow": {
     "slide_type": "slide"
    }
   },
   "source": [
    "#### Non-linear data where $r = 0$"
   ]
  },
  {
   "cell_type": "code",
   "execution_count": 83,
   "id": "65e73eb2",
   "metadata": {
    "slideshow": {
     "slide_type": "-"
    }
   },
   "outputs": [
    {
     "data": {
      "image/png": "[encoded data removed]",
      "text/plain": [
       "<Figure size 432x288 with 1 Axes>"
      ]
     },
     "metadata": {
      "image/png": {
       "height": 248,
       "width": 386
      },
      "needs_background": "light"
     },
     "output_type": "display_data"
    }
   ],
   "source": [
    "x = np.arange(1, 40)\n",
    "y = np.sin(x)\n",
    "p = sns.lineplot(x = x, y = y)"
   ]
  },
  {
   "cell_type": "code",
   "execution_count": 86,
   "id": "2d005c56",
   "metadata": {
    "slideshow": {
     "slide_type": "-"
    }
   },
   "outputs": [
    {
     "data": {
      "text/plain": [
       "(-0.04067793461845844, 0.8057827185936633)"
      ]
     },
     "execution_count": 86,
     "metadata": {},
     "output_type": "execute_result"
    }
   ],
   "source": [
    "### r is close to 0, despite there being a clear relationship!\n",
    "ss.pearsonr(x, y)"
   ]
  },
  {
   "cell_type": "markdown",
   "id": "8f6a2eba",
   "metadata": {
    "slideshow": {
     "slide_type": "slide"
    }
   },
   "source": [
    "#### When $r$ is invariant to the real relationship\n",
    "\n",
    "All these datasets have roughly the same **correlation coefficient**."
   ]
  },
  {
   "cell_type": "code",
   "execution_count": 5,
   "id": "d3e55205",
   "metadata": {
    "slideshow": {
     "slide_type": "-"
    }
   },
   "outputs": [
    {
     "data": {
      "image/png": "[encoded data removed]",
      "text/plain": [
       "<Figure size 2000x500 with 4 Axes>"
      ]
     },
     "metadata": {},
     "output_type": "display_data"
    }
   ],
   "source": [
    "df_anscombe = sns.load_dataset(\"anscombe\")\n",
    "sns.relplot(data = df_anscombe, x = \"x\", y = \"y\", col = \"dataset\");"
   ]
  },
  {
   "cell_type": "code",
   "execution_count": 10,
   "id": "20774a30",
   "metadata": {},
   "outputs": [
    {
     "data": {
      "image/png": "[encoded data removed]",
      "text/plain": [
       "<Figure size 1000x800 with 2 Axes>"
      ]
     },
     "metadata": {},
     "output_type": "display_data"
    }
   ],
   "source": [
    "# Compute correlation matrix\n",
    "corr = df_pokemon.corr(numeric_only=True)\n",
    "\n",
    "# Set up the matplotlib figure\n",
    "plt.figure(figsize=(10, 8))\n",
    "\n",
    "# Create a heatmap\n",
    "sns.heatmap(corr, \n",
    "            annot=True,         # Show correlation coefficients\n",
    "            fmt=\".2f\",          # Format for coefficients\n",
    "            cmap=\"coolwarm\",    # Color palette\n",
    "            vmin=-1, vmax=1,    # Fixed scale\n",
    "            square=True,        # Make cells square\n",
    "            linewidths=0.5,     # Line width between cells\n",
    "            cbar_kws={\"shrink\": .75})  # Colorbar shrink\n",
    "\n",
    "# Title and layout\n",
    "plt.title(\"Correlation Heatmap\", fontsize=16)\n",
    "plt.tight_layout()\n",
    "\n",
    "# Show plot\n",
    "plt.show()"
   ]
  },
  {
   "cell_type": "markdown",
   "id": "71d28506",
   "metadata": {},
   "source": [
    "## Rank Correlations\n",
    "\n",
    "Rank correlations are measures of the strength and direction of a monotonic (increasing or decreasing) relationship between two variables. Instead of numerical values, they use ranks, i.e., positions in an ordered set.\n",
    "\n",
    "They are less sensitive to outliers and do not require linearity (unlike Pearson's correlation).\n",
    "\n",
    "### Types of Rank Correlations\n",
    "\n",
    "1. $ρ$ (rho) **Spearman's**\n",
    "- Based on the ranks of the data.\n",
    "- Value: from –1 to 1.\n",
    "- Works well for monotonic but non-linear relationships.\n",
    "\n",
    "$$\n",
    "\\rho = 1 - \\frac{6 \\sum d_i^2}{n(n^2 - 1)}\n",
    "$$\n",
    "\n",
    "Where:\n",
    "- $d_i$ – differences between the ranks of observations,\n",
    "- $n$ – number of observations.\n",
    "\n",
    "2. $τ$ (tau) **Kendall's**\n",
    "- Measures the number of concordant vs. discordant pairs.\n",
    "- More conservative than Spearman's – often yields smaller values.\n",
    "- Also ranges from –1 to 1.\n",
    "\n",
    "$$\n",
    "\\tau = \\frac{(C - D)}{\\frac{1}{2}n(n - 1)}\n",
    "$$\n",
    "\n",
    "Where:\n",
    "- $τ$ — Kendall's correlation coefficient,\n",
    "- $C$ — number of concordant pairs,\n",
    "- $D$ — number of discordant pairs,\n",
    "- $n$ — number of observations,\n",
    "- $\\frac{1}{2}n(n - 1)$ — total number of possible pairs of observations.\n",
    "\n",
    "What are concordant and discordant pairs?\n",
    "- Concordant pair: if $x_i$ < $x_j$ and $y_i$ < $y_j$, or $x_i$ > $x_j$ and $y_i$ > $y_j$.\n",
    "- Discordant pair: if $x_i$ < $x_j$ and $y_i$ > $y_j$, or $x_i$ > $x_j$ and $y_i$ < $y_j$."
   ]
  },
  {
   "cell_type": "markdown",
   "id": "1866acc0",
   "metadata": {},
   "source": [
    "### When to use rank correlations?\n",
    "- When the data are not normally distributed.\n",
    "- When you suspect a non-linear but monotonic relationship.\n",
    "- When you have rank correlations, such as grades, ranking, preference level."
   ]
  },
  {
   "cell_type": "markdown",
   "id": "719604c5",
   "metadata": {},
   "source": [
    "| Correlation type | Description | When to use |\n",
    "|------------------|-----------------------------------------------------|----------------------------------------|\n",
    "| Spearman's (ρ) | Monotonic correlation, based on ranks | When data are nonlinear or have outliers |\n",
    "| Kendall's (τ) | Counts the proportion of congruent and incongruent pairs | When robustness to ties is important |"
   ]
  },
  {
   "cell_type": "markdown",
   "id": "315a68d7",
   "metadata": {},
   "source": [
    "### Interpretation of correlation values\n",
    "\n",
    "| Range of values | Correlation interpretation |\n",
    "|------------------|----------------------------------|\n",
    "| 0.8 - 1.0 | very strong positive |\n",
    "| 0.6 - 0.8 | strong positive |\n",
    "| 0.4 - 0.6 | moderate positive |\n",
    "| 0.2 - 0.4 | weak positive |\n",
    "| 0.0 - 0.2 | very weak or no correlation |\n",
    "| < 0 | similarly - negative correlation |"
   ]
  },
  {
   "cell_type": "code",
   "execution_count": 12,
   "id": "083c308f",
   "metadata": {},
   "outputs": [
    {
     "data": {
      "image/png": "[encoded data removed]",
      "text/plain": [
       "<Figure size 1000x800 with 2 Axes>"
      ]
     },
     "metadata": {},
     "output_type": "display_data"
    }
   ],
   "source": [
    "# Compute Kendall rank correlation\n",
    "corr_kendall = df_pokemon.corr(method='kendall', numeric_only=True)\n",
    "\n",
    "# Set up the matplotlib figure\n",
    "plt.figure(figsize=(10, 8))\n",
    "\n",
    "# Create a heatmap\n",
    "sns.heatmap(corr, \n",
    "            annot=True,         # Show correlation coefficients\n",
    "            fmt=\".2f\",          # Format for coefficients\n",
    "            cmap=\"coolwarm\",    # Color palette\n",
    "            vmin=-1, vmax=1,    # Fixed scale\n",
    "            square=True,        # Make cells square\n",
    "            linewidths=0.5,     # Line width between cells\n",
    "            cbar_kws={\"shrink\": .75})  # Colorbar shrink\n",
    "\n",
    "# Title and layout\n",
    "plt.title(\"Correlation Heatmap\", fontsize=16)\n",
    "plt.tight_layout()\n",
    "\n",
    "# Show plot\n",
    "plt.show()"
   ]
  },
  {
   "cell_type": "markdown",
   "id": "be6da2a9",
   "metadata": {},
   "source": [
    "### Comparison of Correlation Coefficients\n",
    "\n",
    "| Property                | Pearson (r)                   | Spearman (ρ)                        | Kendall (τ)                          |\n",
    "|-------------------------|-------------------------------|--------------------------------------|---------------------------------------|\n",
    "| What it measures?       | Linear relationship           | Monotonic relationship (based on ranks) | Monotonic relationship (based on pairs) |\n",
    "| Data type               | Quantitative, normal distribution | Ranks or ordinal/quantitative data  | Ranks or ordinal/quantitative data   |\n",
    "| Sensitivity to outliers | High                          | Lower                               | Low                                   |\n",
    "| Value range             | –1 to 1                       | –1 to 1                             | –1 to 1                               |\n",
    "| Requires linearity      | Yes                           | No                                  | No                                    |\n",
    "| Robustness to ties      | Low                           | Medium                              | High                                  |\n",
    "| Interpretation          | Strength and direction of linear relationship | Strength and direction of monotonic relationship | Proportion of concordant vs discordant pairs |\n",
    "| Significance test       | Yes (`scipy.stats.pearsonr`)  | Yes (`spearmanr`)                   | Yes (`kendalltau`)                   |"
   ]
  },
  {
   "cell_type": "markdown",
   "id": "9050db9f",
   "metadata": {},
   "source": [
    "Brief summary:\n",
    "- Pearson - best when the data are normal and the relationship is linear.\n",
    "- Spearman - works better for non-linear monotonic relationships.\n",
    "- Kendall - more conservative, often used in social research, less sensitive to small changes in data."
   ]
  },
  {
   "cell_type": "markdown",
   "id": "07c5b2b5",
   "metadata": {},
   "source": [
    "### Your Turn\n",
    "\n",
    "For the Pokemon dataset, find the pairs of variables that are most appropriate for using one of the quantitative correlation measures. Calculate them, then visualize them."
   ]
  },
  {
   "cell_type": "code",
   "execution_count": 29,
   "id": "6bea7bc3",
   "metadata": {},
   "outputs": [],
   "source": [
    "from scipy.stats import pearsonr, spearmanr, kendalltau\n",
    "\n",
    "## Your code here"
   ]
  },
  {
   "cell_type": "markdown",
   "id": "b77a2ca8",
   "metadata": {},
   "source": [
    "## Correlation of Qualitative Variables\n",
    "\n",
    "A categorical variable is one that takes descriptive values ​​that represent categories—e.g. Pokémon type (Fire, Water, Grass), gender, status (Legendary vs. Normal), etc.\n",
    "\n",
    "Such variables cannot be analyzed directly using correlation methods for numbers (Pearson, Spearman, Kendall). Other techniques are used instead."
   ]
  },
  {
   "cell_type": "markdown",
   "id": "53d82f27",
   "metadata": {},
   "source": [
    "### Contingency Table\n",
    "\n",
    "A contingency table is a special cross-tabulation table that shows the frequency (i.e., the number of cases) for all possible combinations of two categorical variables.\n",
    "\n",
    "It is a fundamental tool for analyzing relationships between qualitative features.\n",
    "\n",
    "#### Chi-Square Test of Independence\n",
    "\n",
    "The Chi-Square test checks whether there is a statistically significant relationship between two categorical variables.\n",
    "\n",
    "Concept:\n",
    "\n",
    "We compare:\n",
    "- observed values (from the contingency table),\n",
    "- with expected values, assuming the variables are independent.\n",
    "\n",
    "$$\n",
    "\\chi^2 = \\sum \\frac{(O_{ij} - E_{ij})^2}{E_{ij}}\n",
    "$$\n",
    "\n",
    "Where:\n",
    "- $O_{ij}$ – observed count in cell ($i$, $j$),\n",
    "- $E_{ij}$ – expected count in cell ($i$, $j$), assuming independence."
   ]
  },
  {
   "cell_type": "markdown",
   "id": "3a463e54",
   "metadata": {},
   "source": [
    "### Example: Calculating Expected Values and Chi-Square Statistic in Python\n",
    "\n",
    "Here’s how you can calculate the **expected values** and **Chi-Square statistic (χ²)** step by step using Python.\n",
    "\n",
    "---\n",
    "\n",
    "#### Step 1: Create the Observed Contingency Table\n",
    "We will use the Pokémon example:\n",
    "\n",
    "| Type 1 | Legendary = False | Legendary = True | Total |\n",
    "|--------|-------------------|------------------|-------|\n",
    "| Fire   | 18                | 5                | 23    |\n",
    "| Water  | 25                | 3                | 28    |\n",
    "| Grass  | 20                | 2                | 22    |\n",
    "| Total  | 63                | 10               | 73    |"
   ]
  },
  {
   "cell_type": "code",
   "execution_count": 30,
   "id": "0dadc73b",
   "metadata": {},
   "outputs": [
    {
     "name": "stdout",
     "output_type": "stream",
     "text": [
      "Observed Table:\n",
      "       Legendary = False  Legendary = True\n",
      "Fire                  18                 5\n",
      "Water                 25                 3\n",
      "Grass                 20                 2\n"
     ]
    }
   ],
   "source": [
    "import numpy as np\n",
    "import pandas as pd\n",
    "from scipy.stats import chi2_contingency\n",
    "\n",
    "# Observed values (contingency table)\n",
    "observed = np.array([\n",
    "    [18, 5],  # Fire\n",
    "    [25, 3],  # Water\n",
    "    [20, 2]   # Grass\n",
    "])\n",
    "\n",
    "# Convert to DataFrame for better visualization\n",
    "observed_df = pd.DataFrame(\n",
    "    observed,\n",
    "    columns=[\"Legendary = False\", \"Legendary = True\"],\n",
    "    index=[\"Fire\", \"Water\", \"Grass\"]\n",
    ")\n",
    "print(\"Observed Table:\")\n",
    "print(observed_df)"
   ]
  },
  {
   "cell_type": "markdown",
   "id": "8223b9df",
   "metadata": {},
   "source": [
    "Step 2: Calculate Expected Values\n",
    "The expected values are calculated using the formula:\n",
    "\n",
    "$$ E_{ij} = \\frac{\\text{Row Total} \\times \\text{Column Total}}{\\text{Grand Total}} $$\n",
    "\n",
    "You can calculate this manually or use scipy.stats.chi2_contingency, which automatically computes the expected values."
   ]
  },
  {
   "cell_type": "code",
   "execution_count": 31,
   "id": "fc33c11e",
   "metadata": {},
   "outputs": [
    {
     "name": "stdout",
     "output_type": "stream",
     "text": [
      "\n",
      "Expected Table:\n",
      "       Legendary = False  Legendary = True\n",
      "Fire           19.849315          3.150685\n",
      "Water          24.164384          3.835616\n",
      "Grass          18.986301          3.013699\n"
     ]
    }
   ],
   "source": [
    "# Perform Chi-Square test\n",
    "chi2, p, dof, expected = chi2_contingency(observed)\n",
    "\n",
    "# Convert expected values to DataFrame for better visualization\n",
    "expected_df = pd.DataFrame(\n",
    "    expected,\n",
    "    columns=[\"Legendary = False\", \"Legendary = True\"],\n",
    "    index=[\"Fire\", \"Water\", \"Grass\"]\n",
    ")\n",
    "print(\"\\nExpected Table:\")\n",
    "print(expected_df)"
   ]
  },
  {
   "cell_type": "markdown",
   "id": "8004a7ec",
   "metadata": {},
   "source": [
    "Step 3: Calculate the Chi-Square Statistic\n",
    "The Chi-Square statistic is calculated using the formula:\n",
    "\n",
    "$$ \\chi^2 = \\sum \\frac{(O_{ij} - E_{ij})^2}{E_{ij}} $$\n",
    "\n",
    "This is done automatically by scipy.stats.chi2_contingency, but you can also calculate it manually:"
   ]
  },
  {
   "cell_type": "code",
   "execution_count": 32,
   "id": "a23bde33",
   "metadata": {},
   "outputs": [
    {
     "name": "stdout",
     "output_type": "stream",
     "text": [
      "\n",
      "Chi-Square Statistic (manual): 1.8638\n"
     ]
    }
   ],
   "source": [
    "# Manual calculation of Chi-Square statistic\n",
    "chi2_manual = np.sum((observed - expected) ** 2 / expected)\n",
    "print(f\"\\nChi-Square Statistic (manual): {chi2_manual:.4f}\")"
   ]
  },
  {
   "cell_type": "markdown",
   "id": "6f88480c",
   "metadata": {},
   "source": [
    "Step 4: Interpret the Results\n",
    "The chi2_contingency function also returns:\n",
    "\n",
    "p-value: The probability of observing the data if the null hypothesis (independence) is true.\n",
    "Degrees of Freedom (dof): Calculated as (rows - 1) * (columns - 1)."
   ]
  },
  {
   "cell_type": "code",
   "execution_count": 33,
   "id": "518d8816",
   "metadata": {},
   "outputs": [
    {
     "name": "stdout",
     "output_type": "stream",
     "text": [
      "\n",
      "Chi-Square Statistic: 1.8638\n",
      "p-value: 0.3938\n",
      "Degrees of Freedom: 2\n"
     ]
    }
   ],
   "source": [
    "print(f\"\\nChi-Square Statistic: {chi2:.4f}\")\n",
    "print(f\"p-value: {p:.4f}\")\n",
    "print(f\"Degrees of Freedom: {dof}\")"
   ]
  },
  {
   "cell_type": "markdown",
   "id": "325aa442",
   "metadata": {},
   "source": [
    "**Interpretation of the Chi-Square Test Result:**\n",
    "\n",
    "| Value               | Meaning                                         |\n",
    "|---------------------|-------------------------------------------------|\n",
    "| High χ² value       | Large difference between observed and expected values |\n",
    "| Low p-value         | Strong basis to reject the null hypothesis of independence |\n",
    "| p < 0.05            | Statistically significant relationship between variables |"
   ]
  },
  {
   "cell_type": "markdown",
   "id": "62192130",
   "metadata": {},
   "source": [
    "### Qualitative Correlations\n",
    "\n",
    "#### Cramér's V\n",
    "\n",
    "**Cramér's V** is a measure of the strength of association between two categorical variables. It is based on the Chi-Square test but scaled to a range of 0–1, making it easier to interpret the strength of the relationship.\n",
    "\n",
    "$$\n",
    "V = \\sqrt{ \\frac{\\chi^2}{n \\cdot (k - 1)} }\n",
    "$$\n",
    "\n",
    "Where:\n",
    "- $\\chi^2$ – Chi-Square test statistic,\n",
    "- $n$ – number of observations,\n",
    "- $k$ – the smaller number of categories (rows/columns) in the contingency table.\n",
    "\n",
    "---\n",
    "\n",
    "#### Phi Coefficient ($φ$)\n",
    "\n",
    "Application:\n",
    "- Both variables must be dichotomous (e.g., Yes/No, 0/1), meaning the table must have the smallest size of **2×2**.\n",
    "- Ideal for analyzing relationships like gender vs purchase, type vs legendary.\n",
    "\n",
    "$$\n",
    "\\phi = \\sqrt{ \\frac{\\chi^2}{n} }\n",
    "$$\n",
    "\n",
    "Where:\n",
    "- $\\chi^2$ – Chi-Square test statistic for a 2×2 table,\n",
    "- $n$ – number of observations.\n",
    "\n",
    "---\n",
    "\n",
    "#### Tschuprow’s T\n",
    "\n",
    "**Tschuprow’s T** is a measure of association similar to **Cramér's V**, but it has a different scale. It is mainly used when the number of categories in the two variables differs. This is a more advanced measure applicable to a broader range of contingency tables.\n",
    "\n",
    "$$\n",
    "T = \\sqrt{\\frac{\\chi^2}{n \\cdot (k - 1)}}\n",
    "$$\n",
    "\n",
    "Where:\n",
    "- $\\chi^2$ – Chi-Square test statistic,\n",
    "- $n$ – number of observations,\n",
    "- $k$ – the smaller number of categories (rows or columns) in the contingency table.\n",
    "\n",
    "Application: Tschuprow’s T is useful when dealing with contingency tables with varying numbers of categories in rows and columns.\n",
    "\n",
    "---\n",
    "\n",
    "### Summary - Qualitative Correlations\n",
    "\n",
    "| Measure            | What it measures                                       | Application                     | Value Range     | Strength Interpretation       |\n",
    "|--------------------|--------------------------------------------------------|---------------------------------|------------------|-------------------------------|\n",
    "| **Cramér's V**     | Strength of association between nominal variables      | Any categories                  | 0 – 1           | 0.1–weak, 0.3–moderate, >0.5–strong |\n",
    "| **Phi ($φ$)**      | Strength of association in a **2×2** table             | Two binary variables            | -1 – 1          | Similar to correlation        |\n",
    "| **Tschuprow’s T**  | Strength of association, alternative to Cramér's V     | Tables with similar category counts | 0 – 1      | Less commonly used            |\n",
    "| **Chi² ($χ²$)**    | Statistical test of independence                       | All categorical variables       | 0 – ∞           | Higher values indicate stronger differences |"
   ]
  },
  {
   "cell_type": "markdown",
   "id": "7f7304e3",
   "metadata": {},
   "source": [
    "### Example\n",
    "\n",
    "Let's investigate whether the Pokémon's type (type_1) is affected by whether the Pokémon is legendary.\n",
    "\n",
    "We'll use the **scipy** library.\n",
    "\n",
    "This library already has built-in functions for calculating various qualitative correlation measures."
   ]
  },
  {
   "cell_type": "code",
   "execution_count": 5,
   "id": "f99a6ab8",
   "metadata": {},
   "outputs": [
    {
     "name": "stdout",
     "output_type": "stream",
     "text": [
      "Cramer's V: 0.3361928228447545\n"
     ]
    }
   ],
   "source": [
    "from scipy.stats.contingency import association\n",
    "\n",
    "# Contingency table:\n",
    "ct = pd.crosstab(df_pokemon[\"Type 1\"], df_pokemon[\"Legendary\"])\n",
    "\n",
    "# Calculating Cramér's V measure\n",
    "V = association(ct, method=\"cramer\") # https://docs.scipy.org/doc/scipy/reference/generated/scipy.stats.contingency.association.html#association\n",
    "\n",
    "print(f\"Cramer's V: {V}\") # interpret!\n"
   ]
  },
  {
   "cell_type": "markdown",
   "id": "a6c1a0c0",
   "metadata": {},
   "source": [
    "### Your turn\n",
    "\n",
    "What visualization would be most appropriate for presenting a quantitative, ranked, and qualitative relationship?\n",
    "\n",
    "Try to think about which pairs of variables could have which type of analysis based on the Pokemon data.\n",
    "\n",
    "---"
   ]
  },
  {
   "cell_type": "code",
   "execution_count": 36,
   "id": "de18fc2e",
   "metadata": {},
   "outputs": [],
   "source": [
    "## Your code and discussion here"
   ]
  },
  {
   "cell_type": "markdown",
   "id": "300f53de",
   "metadata": {},
   "source": [
    "# Summary\n",
    "\n",
    "There are many ways to *describe* our data:\n",
    "\n",
    "- Measure **central tendency**.\n",
    "\n",
    "- Measure its **variability**; **skewness** and **kurtosis**.\n",
    "\n",
    "- Measure what **correlations** our data have.\n",
    "\n",
    "All of these are **useful** and all of them are also **exploratory data analysis** (EDA)."
   ]
  }
 ],
 "metadata": {
  "celltoolbar": "Slideshow",
  "kernelspec": {
   "display_name": "Python 3",
   "language": "python",
   "name": "python3"
  },
  "language_info": {
   "codemirror_mode": {
    "name": "ipython",
    "version": 3
   },
   "file_extension": ".py",
   "mimetype": "text/x-python",
   "name": "python",
   "nbconvert_exporter": "python",
   "pygments_lexer": "ipython3",
   "version": "3.13.2"
  }
 },
 "nbformat": 4,
 "nbformat_minor": 5
}
