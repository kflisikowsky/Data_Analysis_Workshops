{
 "cells": [
  {
   "cell_type": "markdown",
   "id": "17319004",
   "metadata": {},
   "source": [
    "---\n",
    "title: Git and Version Control\n",
    "subtitle: Introduction to Git and Version Control for Collaborative Projects\n",
    "abstract: This notebook introduces Git and version control, focusing on collaborative workflows for data analysis projects. It covers Git basics, configuration, and integration with Visual Studio Code, including the use of the GitLens extension. Participants will learn how to manage repositories, track changes, and collaborate effectively using GitHub. Practical exercises and resources are provided to enhance understanding and application.\n",
    "author:\n",
    "  - name: Karol Flisikowski\n",
    "    affiliations: \n",
    "      - Gdansk University of Technology\n",
    "      - Chongqing Technology and Business University\n",
    "    orcid: 0000-0002-4160-1297\n",
    "    email: karol@ctbu.edu.cn\n",
    "date: 2025-04-29\n",
    "---"
   ]
  },
  {
   "cell_type": "markdown",
   "id": "df1d774f",
   "metadata": {
    "slideshow": {
     "slide_type": "slide"
    }
   },
   "source": [
    "## Git and Version Control"
   ]
  },
  {
   "cell_type": "markdown",
   "id": "85036752",
   "metadata": {
    "slideshow": {
     "slide_type": "slide"
    }
   },
   "source": [
    "## Objectives of this chapter\n",
    "\n",
    "This chapter will explain the Git tool useful for **working with version control** in Python, specifically in Visual Studio (you can also use other programming languages...).\n",
    "\n",
    "- The main focus: **Git**, its syntax (syntax).\n",
    "- Using the GitLens plugin in VS Code\n",
    "- How to work collaboratively on an analytical project using GitLens in VS Code"
   ]
  },
  {
   "cell_type": "markdown",
   "id": "3efec136",
   "metadata": {},
   "source": [
    "## Git\n",
    "\n",
    "Ok, you already know the basics of Python programming, in the VS Code environment. You create collaborative projects with friends, but you keep getting versions wrong. You would like to work on them together and see and note your progress in real time. The answer is Git. Git is a distributed version control system and invaluable support for any developer! It's what allows you to create a project's compilation history, manage versions, control progress and edit the code you create, then publish it to GitHub.\n",
    "\n",
    "Visual Studio Code has built-in support for Git. Git is a distributed approach to version control. Git was created by Linus Torvalds in 2005 to manage the development of the Linux kernel. Simply put, Git tracks changes made to files, allowing you to revert to previous versions of files if necessary."
   ]
  },
  {
   "cell_type": "markdown",
   "id": "ea27e3d0",
   "metadata": {},
   "source": [
    "## What do you need?\n",
    "\n",
    "### Git\n",
    "\n",
    "Before you start using Git integration in VS Code, first make sure you have Git downloaded and configured. To verify that you have Git installed, open the integrated terminal in VS Code using the keyboard shortcut CTRL +, then type git --version. If the terminal returns git version followed by any version number, it means you actually have Git installed. If nothing is returned, you will have to(a) go to https://git-scm.com/downloads for your operating system. \n",
    "\n",
    "Then check that Git is configured correctly by setting up your name and email address. To check if Git has already been configured, go to a terminal and run the command: \n",
    "\n",
    "```git config --global --list```\n",
    "\n",
    "---\n",
    "\n",
    "If Git has been configured, the terminal will return the username and email address you set. If not, you must configure Git by doing the following:\n",
    "\n",
    "1. To set your name run: ```git config --global user.name <your name> ```\n",
    "2. To set your email run: ```git config --global user.email <your email>```\n",
    "\n",
    "This information is required to use Git and must be entered before approving any changes. For additional information on Git configuration and initial requirements, see [official Git documentation](https://git-scm.com/book/en/v2/Getting-Started-First-Time-Git-Setup).\n",
    "\n",
    "---\n",
    "\n",
    "### GitLens\n",
    "\n",
    "Install the GitLens plugin inside VS Code! \n",
    "\n",
    "With over 20 million installations, GitLens is the most popular Git extension for Visual Studio Code. It provides valuable insight into code authorship and unlocks the full power of Git inside VS Code. GitLens enhances the Git capabilities built into VS Code. Whether you're an experienced Git developer or just starting out, GitLens makes using the full power of Git easier, safer and faster. \n",
    "\n",
    "This GitLens tutorial will show you how to use GitLens in VS Code and get the most out of the tool. Sign up for GitLens+ to get the most out of your experience - it costs nothing.\n",
    "\n",
    "<p style=\"text-align: center;\"><iframe width=\"560\" height=\"315\" src=\"https://www.youtube.com/embed/i_23KUAEtUM?si=PoNhq3UWhdWNDCy3\" title=\"YouTube video player\" frameborder=\"0\" allow=\"accelerometer; autoplay; clipboard-write; encrypted-media; gyroscope; picture-in-picture; web-share\" referrerpolicy=\"strict-origin-when-cross-origin\" allowfullscreen=\"\"></iframe></p>\n",
    "\n",
    "### Working with version control\n",
    "\n",
    "1. Log into GitHub from the GitLens plugin, introduce yourself - giving your login and email in the terminal. \n",
    "2. Create a test repository on GitHub (don't forget to select the “Create Readme file” hook), connect to it directly from the GitLens plugin in VS Code. Try to make trial changes to the Readme file. \n",
    "3. How to work in a team? You need to grant permissions to your collaborator by going to the “Collaborators” tab on the GitHub site, under the general repository settings. \n",
    "\n",
    "<center>\n",
    "\n",
    "<p><iframe width=\"560\" height=\"315\" src=\"https://www.youtube.com/embed/UQPb73Zz9qk?si=C4rHKiBhZ_ptwCBJ\" title=\"YouTube video player\" frameborder=\"0\" allow=\"accelerometer; autoplay; clipboard-write; encrypted-media; gyroscope; picture-in-picture; web-share\" referrerpolicy=\"strict-origin-when-cross-origin\" allowfullscreen=\"\"></iframe></p>\n",
    "<p></p>"
   ]
  }
 ],
 "metadata": {
  "celltoolbar": "Slideshow",
  "kernelspec": {
   "display_name": "Python 3 (ipykernel)",
   "language": "python",
   "name": "python3"
  },
  "language_info": {
   "codemirror_mode": {
    "name": "ipython",
    "version": 3
   },
   "file_extension": ".py",
   "mimetype": "text/x-python",
   "name": "python",
   "nbconvert_exporter": "python",
   "pygments_lexer": "ipython3",
   "version": "3.9.12"
  }
 },
 "nbformat": 4,
 "nbformat_minor": 5
}
