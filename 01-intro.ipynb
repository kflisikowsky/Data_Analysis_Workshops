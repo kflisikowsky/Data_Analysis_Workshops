{
 "cells": [
  {
   "cell_type": "markdown",
   "metadata": {},
   "source": [
    "---\n",
    "title: Linking Interactive Notebooks\n",
    "subtitle: Evolve markdown documents and notebooks into structured data\n",
    "abstract: We introduce, a set of open-source, community-driven ...\n",
    "author:\n",
    "  - name: Karol Flisikowski\n",
    "    affiliations: \n",
    "      - Gdansk University of Technology\n",
    "      - Chongqing Technology and Business University\n",
    "    orcid: 0000-0002-4160-1297\n",
    "    linkedin: flisik\n",
    "    email: karol@ctbu.edu.cn\n",
    "date: 2025-04-29\n",
    "---\n",
    "\n",
    "MyST allows you to directly include Jupyter Notebooks in your books, documents and websites.\n",
    "This Jupyter Notebook can be rendered directly using MyST.\n",
    "\n",
    "For example, let us import `altair` and create a demo of an interactive plot!"
   ]
  },
  {
   "cell_type": "markdown",
   "metadata": {},
   "source": [
    "# Chapter 1.\n",
    "\n",
    "Here "
   ]
  },
  {
   "cell_type": "code",
   "execution_count": 1,
   "metadata": {},
   "outputs": [],
   "source": [
    "import pandas as pd"
   ]
  }
 ],
 "metadata": {
  "kernelspec": {
   "display_name": "Python 3",
   "language": "python",
   "name": "python3"
  },
  "language_info": {
   "codemirror_mode": {
    "name": "ipython",
    "version": 3
   },
   "file_extension": ".py",
   "mimetype": "text/x-python",
   "name": "python",
   "nbconvert_exporter": "python",
   "pygments_lexer": "ipython3",
   "version": "3.13.2"
  }
 },
 "nbformat": 4,
 "nbformat_minor": 4
}
